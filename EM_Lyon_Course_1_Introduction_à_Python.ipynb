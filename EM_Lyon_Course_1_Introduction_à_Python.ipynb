{
 "cells": [
  {
   "cell_type": "markdown",
   "source": "# Course 1: Introduction Python\n\n<center><img src=\"https://www.python.org/static/community_logos/python-logo-master-v3-TM.png\" title=\"Python Logo\"/></center>\n\n",
   "metadata": {
    "id": "shVO-4_l20y5",
    "cell_id": "00000-60c69b14-4584-4a14-aef6-7e862e0986e6",
    "deepnote_cell_type": "markdown"
   }
  },
  {
   "cell_type": "markdown",
   "source": "This course covers the key Python skills you’ll need so you can start using Python for data science.",
   "metadata": {
    "id": "xTecwN9b2yAx",
    "cell_id": "00001-5f3b9dd5-3223-4f3f-b837-b607d0ef75b0",
    "deepnote_cell_type": "markdown"
   }
  },
  {
   "cell_type": "markdown",
   "source": "# 1.&nbsp;Understand&nbsp;your&nbsp;first&nbsp;Python&nbsp;program",
   "metadata": {
    "tags": [],
    "is_collapsed": false,
    "cell_id": "00003-087e67e1-ff81-4171-bf65-93588fbb891e",
    "deepnote_cell_type": "text-cell-h1"
   }
  },
  {
   "cell_type": "code",
   "metadata": {
    "colab": {
     "base_uri": "https://localhost:8080/"
    },
    "id": "VjrYVYCe2mUR",
    "outputId": "6cac7384-e3de-4621-e869-740984ce711a",
    "cell_id": "00003-1181de2e-56cf-4d7b-9617-deb8cfb9d9c1",
    "deepnote_to_be_reexecuted": false,
    "source_hash": "218614ab",
    "execution_start": 1629475452071,
    "execution_millis": 11,
    "deepnote_cell_type": "code"
   },
   "source": "int_numberOfStudents = 0\nprint(int_numberOfStudents)\n\n# Counting the number of students\nint_numberOfStudents = int_numberOfStudents + 32\n\nif int_numberOfStudents > 0:\n    print(\"The class has started!\")\ntext = \"And the class will end one day!\"\nprint(text)",
   "execution_count": null,
   "outputs": [
    {
     "name": "stdout",
     "text": "0\nThe class has started!\nAnd the class will end one day!\n",
     "output_type": "stream"
    }
   ]
  },
  {
   "cell_type": "markdown",
   "source": "**Variable assignment:** Here `int_numberOfStudents` is called a **variable** and we **assign** it the value of 0 using `=`, which is called the assignment operator.\n​\n> **Aside**: If you've programmed in certain other languages (like Java or C++), you might be noticing some things Python *doesn't* require us to do here:  \n- we don't need to \"declare\" `int_numberOfStudents` before assigning to it\n- we don't need to tell Python what type of value `int_numberOfStudents` is going to refer to. In fact, we can even go on to reassign `int_numberOfStudents` to refer to a different sort of thing like a string or a boolean.",
   "metadata": {
    "tags": [],
    "cell_id": "00004-17d25a72-0acc-4925-ae68-b116815750c4",
    "deepnote_cell_type": "markdown"
   }
  },
  {
   "cell_type": "markdown",
   "source": "```\nint_numberOfStudents = 0\n```\n\n**Variable assignment:** Here `int_numberOfStudents` is called a **variable** and we **assign** it the value of 0 using `=`, which is called the assignment operator.\n​\n> **Aside**: If you've programmed in certain other languages (like Java or C++), you might be noticing some things Python *doesn't* require us to do here:  \n- we don't need to \"declare\" `int_numberOfStudents` before assigning to it\n- we don't need to tell Python what type of value `int_numberOfStudents` is going to refer to. In fact, we can even go on to reassign `int_numberOfStudents` to refer to a different sort of thing like a string or a boolean.\n\n```\nprint(int_numberOfStudents)\n```\n**Function calls:** `print` is a Python **function** that displays the value passed to it on the screen. We call functions by putting parentheses after their name, and putting the **inputs (or *arguments*)** to the function in those parentheses.\n\n```\n# Counting the number of students\n```\n\n**Comments:** The first line above is a comment. In Python, comments begin with the `#` symbol. Comments are ignored by the program, you can write whatever you want. We use comments to explain to others (and to ourselves) what we did when a part of the code is complex. \n\nIt is very important to use comments and it is considered a basic of the **best practices** for **code readability**.\n\n```\n'''\nThese are multiline comments\nDo not hesitate to use them\n'''\n```\nYes, you can also use multi-line comments like above\n```\nint_numberOfStudents = int_numberOfStudents + 4\n```\n\n**Reassignment:** Here we give the **variable** `int_numberOfStudents` a new value, we say that we are **reassigning** its value. Reassigning the value of an existing variable looks just the same as creating a variable - it still uses the `=` assignment operator.\n\nIn this case, the value we're assigning to `int_numberOfStudents` involves some simple arithmetic on its previous value. When it encounters this line, Python evaluates the expression on the right-hand-side of the `=` (0 + 4 = 4), and then assigns that value to the variable on the left-hand-side.\n\n<center><img src=\"https://i.redd.it/zzxftm1ebwg71.jpg\" width=\"400\" height=\"400\"></center>\n\n\n```\nif int_numberOfStudents > 0:\n    print(\"The class has started!\")\ntext = \"And the class will end one day!\"\nprint(text)\n```\n\n**Conditionals:** The keyword `ìf` is a **conditional**. We won't talk much about **conditionals** until later, but, even if you've never coded before, you can probably guess what this does. Python is prized for its readability and the simplicity.\n\nNote how we indicated which code belongs to the if. \"This code is in the if!\" is only supposed to be printed if `int_numberOfStudents` is positive. But the later code (like `print(\"The class has started!\")`)) should be executed no matter what. How do we (and Python) know that?\n\nThe colon (:) at the end of the if line indicates that a new code block is starting. Subsequent lines which are **indented** are part of that code block.\n\n> **Aside**: If you've coded before, you might know that some other languages use {curly braces} to mark the beginning and end of code blocks. Python's use of meaningful whitespace can be surprising to programmers who are accustomed to other languages, but in practice it can lead to more consistent and readable code than languages that do not enforce indentation of code blocks.\n\nLike comments, **indentation** is a **best practice** for **code readability** and in Python, it has become mandatory.",
   "metadata": {
    "id": "7UIKlhXwn6Eb",
    "cell_id": "00004-5b7dba7a-4bab-4a54-ab4f-d0cdf9eaa956",
    "deepnote_cell_type": "markdown"
   }
  },
  {
   "cell_type": "markdown",
   "source": "## Your turn ",
   "metadata": {
    "id": "TGEZTEpmumER",
    "cell_id": "00005-30a62b2d-53e2-45cb-8429-be5b868a8bba",
    "deepnote_cell_type": "markdown"
   }
  },
  {
   "cell_type": "markdown",
   "source": "A  **\"Hello, World!\"** program generally is a computer program that outputs or displays the message \"Hello, World!\". Such a program is very simple in most programming languages, and is often used to illustrate the basic syntax of a programming language. It is often the first program written by people learning to code. It can also be used as a sanity test to make sure that computer software intended to compile or run source code is correctly installed, and that the operator understands how to use it. ",
   "metadata": {
    "id": "dL8Nw538upZ6",
    "cell_id": "00006-5afe4f64-eea7-4583-af3b-4f5a456c3163",
    "deepnote_cell_type": "markdown"
   }
  },
  {
   "cell_type": "markdown",
   "source": " <font color='red'>**Exercize : Print \"Hello, World!\"**</font>",
   "metadata": {
    "id": "xYVRG7PTu6jI",
    "cell_id": "00007-b4af7028-aab2-41a9-bfda-e1fe43461edb",
    "deepnote_cell_type": "markdown"
   }
  },
  {
   "cell_type": "code",
   "metadata": {
    "id": "bewcKLiCvDjr",
    "cell_id": "00008-813a04a9-ff4c-4d63-837c-77e3a5ab5862",
    "deepnote_cell_type": "code"
   },
   "source": "",
   "execution_count": null,
   "outputs": []
  },
  {
   "cell_type": "markdown",
   "source": "# 2.&nbsp;Standard&nbsp;variable&nbsp;types&nbsp;",
   "metadata": {
    "tags": [],
    "is_collapsed": false,
    "cell_id": "00012-d0c2ab17-03e8-446b-8f7e-22999dab4cc5",
    "deepnote_cell_type": "text-cell-h1"
   }
  },
  {
   "cell_type": "markdown",
   "source": "In our first example we have seen two different **types of variables**. `int_numberOfStudents` is a numeric variable and `text` is a textual variable. In this chapter, we will see the most basic objects in Python.",
   "metadata": {
    "id": "qIvxAaPvjOoT",
    "cell_id": "00010-e02be253-f4fb-463a-b4f0-781ba0f2b589",
    "deepnote_cell_type": "markdown"
   }
  },
  {
   "cell_type": "markdown",
   "source": "## *2.1* Definitions",
   "metadata": {
    "id": "cb2HsUr4r_Oe",
    "cell_id": "00011-9aa80441-43b7-4641-8794-d7c43a8a9442",
    "deepnote_cell_type": "markdown"
   }
  },
  {
   "cell_type": "markdown",
   "source": "**Variables** are nothing but **reserved memory locations** to **store values**. This means that when you create a variable you reserve some space in memory.\n\n\nBased on the data type of a variable, the interpreter allocates memory and decides what can be stored in the reserved memory. Therefore, by assigning different data types to variables, you can store integers, decimals or characters in these variables.\n\n<center><img src=\"https://www.researchgate.net/profile/Prabhudev-Irabashetti/publication/265166374/figure/fig1/AS:295882936340490@1447555397972/Memory-Allocation-Problem.png\" width=\"600\" height=\"400\"></center>\n\n**Object and Class** : an **object** is simply a **collection of data (variables) and methods (functions)** that act on those data. A **class** is a **blueprint** for an object.\n\nWe can think of a class as a sketch (prototype) of a house. It contains all the details about the floors, doors, windows, etc. Based on these descriptions we build the house. House is the object.\n\nAs many houses can be made from a house's blueprint, we can create many objects from a class. An object is also called an instance of a class and the process of creating this object is called instantiation.\n\n<center><img src=\"https://electricalworkbook.com/wp-content/uploads/2018/09/python_class-1024x700.png\" width=\"600\" height=\"400\"></center>\n\n**Functions** : a **function** is a block of code which only runs when it is called. You can pass data, known as parameters, into a function. A function can return data as a result.\n\n**Methods** \nPython method is like a function, except it is attached to an object. We call a method on an object, and it possibly makes changes to that object. A method, then, belongs to a class. Let’s take an example.\n\n\n<center><img src=\"https://techvidvan.com/tutorials/wp-content/uploads/sites/2/2020/04/python-methods-vs-functions.jpg\" width=\"600\" height=\"400\"></center>\n",
   "metadata": {
    "id": "_7QaQuLumb5a",
    "cell_id": "00012-5ab09a9b-99f0-4940-8ea2-a7f5da75b875",
    "deepnote_cell_type": "markdown"
   }
  },
  {
   "cell_type": "markdown",
   "source": "## *2.2* Basic types of variables\n\nThe data stored in memory can be of many types. For example, a person's age is stored as a numeric value and his or her address is stored as alphanumeric characters. Python has various standard data types that are used to define the operations possible on them and the storage method for each of them.",
   "metadata": {
    "id": "ZJrJsbOBhKvw",
    "cell_id": "00013-24df544f-0ce4-4adc-a726-edd66c391a50",
    "deepnote_cell_type": "markdown"
   }
  },
  {
   "cell_type": "markdown",
   "source": "Python has five standard data types :\n\n*   `Number`\n*   `String` \n*   `List` \n*   `Tuple`\n*   `Dictionary`\n\n\n    \n    \n    \n    \n    \n",
   "metadata": {
    "id": "SvxQCe5yVkbL",
    "cell_id": "00014-a2e82521-5704-4538-b43e-578db2307def",
    "deepnote_cell_type": "markdown"
   }
  },
  {
   "cell_type": "markdown",
   "source": "### *2.2.1* Numbers and arithmetic in Python\n\n`Number` is a fine informal name for the kind of thing, but if we wanted to be more technical, we could ask Python how it would describe the type of thing that int_numberOfStudents is:\n",
   "metadata": {
    "id": "r6wJnuZ9tSEe",
    "cell_id": "00015-9508cafb-f344-48c3-9f93-5d735c9b0bf3",
    "deepnote_cell_type": "markdown"
   }
  },
  {
   "cell_type": "code",
   "metadata": {
    "id": "3FFJCreCttwA",
    "cell_id": "00016-185cfbde-d3c4-421f-b4b9-301129fe682e",
    "deepnote_cell_type": "code"
   },
   "source": "int_numberOfStudents = 4\ntype(int_numberOfStudents)",
   "execution_count": null,
   "outputs": []
  },
  {
   "cell_type": "markdown",
   "source": "\n\nIt's an `int` - short for **integer**. There's another sort of number we commonly encounter in Python:\n",
   "metadata": {
    "id": "GtNXMSFUt_QC",
    "cell_id": "00017-6072ad91-cb41-48c3-ac9e-30363ef402df",
    "deepnote_cell_type": "markdown"
   }
  },
  {
   "cell_type": "code",
   "metadata": {
    "id": "ARSp13a7uKcg",
    "cell_id": "00018-632fe45b-2b02-43ba-8eb9-c1fe4d95b06e",
    "deepnote_cell_type": "code"
   },
   "source": "type(19.95)",
   "execution_count": null,
   "outputs": []
  },
  {
   "cell_type": "markdown",
   "source": "A `float` is a **number with a decimal place** - very useful for representing things like weights or proportions.\n\n`type()` is the second built-in function we've seen (after print()), and it's another good one to remember. It's very useful to be able to ask Python \"what kind of thing is this?\".\n",
   "metadata": {
    "id": "3OL80U-3uKpF",
    "cell_id": "00019-0d2c80cf-39e0-4df5-9087-4d239d2e260b",
    "deepnote_cell_type": "markdown"
   }
  },
  {
   "cell_type": "markdown",
   "source": "\n\n> **Aside**: Python supports four different numerical types :\n* `int` (signed integers)\n* `long` (long integers, they can also be represented in octal and hexadecimal)\n* `float` (floating point real values)\n* `complex` (complex numbers)",
   "metadata": {
    "id": "Hj7tpegWtwEV",
    "cell_id": "00020-76d5558f-4898-430a-931c-200e769578e5",
    "deepnote_cell_type": "markdown"
   }
  },
  {
   "cell_type": "markdown",
   "source": "A natural thing to want to do with numbers is perform arithmetic. We've seen the `+` operator for addition, and the `*` operator for multiplication. Python also has us covered for the rest of the basic buttons on your calculator:\n\n| Operator     | Name           | Description                                            |\n|--------------|----------------|--------------------------------------------------------|\n| ``a + b``    | Addition       | Sum of ``a`` and ``b``                                 |\n| ``a - b``    | Subtraction    | Difference of ``a`` and ``b``                          |\n| ``a * b``    | Multiplication | Product of ``a`` and ``b``                             |\n| ``a / b``    | True division  | Quotient of ``a`` and ``b``                            |\n| ``a // b``   | Floor division | Quotient of ``a`` and ``b``, removing fractional parts |\n| ``a % b``    | Modulus        | Integer remainder after division of ``a`` by ``b``     |\n| ``a ** b``   | Exponentiation | ``a`` raised to the power of ``b``                     |\n| ``-a``       | Negation       | The negative of ``a``                                  |\n",
   "metadata": {
    "id": "HUUOyfDW38ei",
    "cell_id": "00021-6e7d4bed-368e-48ed-a13d-f2f360d14d29",
    "deepnote_cell_type": "markdown"
   }
  },
  {
   "cell_type": "markdown",
   "source": "Exercize : fill in the table \n\n| a      | Operation | b   | Result | Type |\n|--------|-----------|-----|--------|------|\n| 1      | +         | 1   | ?      | ?    | \n| 1.0    | +         | 1   | ?      | ?    | \n| 1      | +         | 0.0 | ?      | ?    | \n| 1      | -         | 1   | ?      | ?    | \n| 1      | -         | 0   | ?      | ?    | \n| 1      | -         | 0.0 | ?      | ?    | \n| 1      | -         | 1.0 | ?      | ?    | \n| 1      | *         | 1   | ?      | ?    | \n| 1.0    | *         | 1   | ?      | ?    | \n| 1      | *         | 0.0 | ?      | ?    | \n| 1      | /         | 1   | ?      | ?    | \n| 0      | /         | 1   | ?      | ?    |\n| 1      | /         | 0   | ?      | ?    |\n| 3      | /         | 2   | ?      | ?    |\n| 123456 | /         | 3   | ?      | ?    |\n| 1      | //        | 1   | ?      | ?    |\n| 0      | //        | 1   | ?      | ?    |\n| 1      | //        | 0   | ?      | ?    |\n| 3      | //        | 2   | ?      | ?    |\n| 123456 | //        | 3   | ?      | ?    |\n| 1      | %         | 1   | ?      | ?    |\n| 9      | %         | 3   | ?      | ?    |\n| 8      | %         | 3   | ?      | ?    |\n| 7      | %         | 3   | ?      | ?    |\n| 0      | %         | 1   | ?      | ?    |\n| 1      | %         | 0   | ?      | ?    |",
   "metadata": {
    "id": "v1sWDFFNu2wJ",
    "cell_id": "00022-d41b0512-be6e-40f9-8760-7d1eae8f9085",
    "deepnote_cell_type": "markdown"
   }
  },
  {
   "cell_type": "markdown",
   "source": "### *2.2.2* Strings",
   "metadata": {
    "id": "xXChTSULbdQE",
    "cell_id": "00023-65d5e6b2-a85b-49c9-a5a9-f885a85bce70",
    "deepnote_cell_type": "markdown"
   }
  },
  {
   "cell_type": "markdown",
   "source": "Strings in Python are identified as a **contiguous set of characters** represented in the quotation marks. Python allows for either pairs of single `'` or double quotes`\"`.\n\nDouble quotes are convenient if your string contains a single quote character (e.g. representing an apostrophe).\n\n```\nprint(\"Pluto's a planet!\")\n```\n\nSimilarly, it's easy to create a string that contains double-quotes if you wrap it in single quotes:\n\n```\nprint('My dog is named \"Pluto\"')\n```\n\nIn addition, Python's triple quote syntax for strings lets us include newlines literally (i.e. by just hitting 'Enter' on our keyboard, rather than using the special '\\n' sequence). We've already seen this in the docstrings we use to document our functions, but we can use them anywhere we want to define a string.\n\n```\ntriplequoted_hello = \"\"\"hello\nworld\"\"\"\n```\n\n\nThe plus sign `+` is the string concatenation operator and the asterisk `*` is the repetition operator.",
   "metadata": {
    "id": "kUFEXAjXby0i",
    "cell_id": "00024-ed30cbf9-1cbf-4bcc-9587-513cf28b0321",
    "deepnote_cell_type": "markdown"
   }
  },
  {
   "cell_type": "markdown",
   "source": "<table>\n    <thead>\n        <tr>\n            <th>a</th>\n            <th>operation</th>\n            <th>b</th>\n            <th>result</th>\n            <th>type</th>\n        </tr>\n    </thead>\n    <tbody>\n        <tr>\n            <td>\"This is\"</td>\n            <td>+</td>\n            <td>\"EM\"</td>\n            <td>?</td>\n            <td>?</td>\n        </tr>\n        <tr>\n            <td>\"I am \"</td>\n            <td>+</td>\n            <td>3</td>\n            <td>?</td>\n            <td>?</td>\n        </tr>\n        <tr>\n            <td>\"I am \"</td>\n            <td>*</td>\n            <td>3</td>\n            <td>?</td>\n            <td>?</td>\n        </tr>\n        <tr>\n            <td>\"Spiderman\"</td>\n            <td>==</td>\n            <td>\"Spiderman\"</td>\n            <td>?</td>\n            <td>?</td>\n        </tr>\n        <tr>\n            <td>\"a\"</td>\n            <td><</td>\n            <td>\"b\"</td>\n            <td>?</td>\n            <td>?</td>\n        </tr>\n        <tr>\n            <td>\"a\"</td>\n            <td>></td>\n            <td>\"b\"</td>\n            <td>?</td>\n            <td>?</td>\n        </tr>\n    </tbody>\n</table> \n",
   "metadata": {
    "id": "iBmLmvPRcW10",
    "cell_id": "00025-0c941162-4746-4139-b61c-0dd9dac2a8b3",
    "deepnote_cell_type": "markdown"
   }
  },
  {
   "cell_type": "markdown",
   "source": "#### Indexing\n\nYou can access individual characters of a `string` with square brackets.\n\nWhich is the first letter? Python uses <em>zero-based</em> indexing, so the first element has index 0.",
   "metadata": {
    "id": "QkzePZrWeV7z",
    "cell_id": "00026-6ad3e118-1cb5-4ff2-abc4-ffec9a05db12",
    "deepnote_cell_type": "markdown"
   }
  },
  {
   "cell_type": "code",
   "metadata": {
    "tags": [],
    "cell_id": "00028-e2378e84-7b5e-4141-8081-b3a17e710da6",
    "deepnote_to_be_reexecuted": false,
    "source_hash": "38e4743d",
    "execution_start": 1629461987119,
    "execution_millis": 7,
    "deepnote_cell_type": "code"
   },
   "source": "poem = \"Roses are red, violets are blue\"",
   "execution_count": null,
   "outputs": []
  },
  {
   "cell_type": "markdown",
   "source": "Elements at the end of the string can be accessed with negative numbers, starting from -1",
   "metadata": {
    "tags": [],
    "cell_id": "00029-37bb30f5-d24c-4547-8634-46d57bf21029",
    "deepnote_cell_type": "markdown"
   }
  },
  {
   "cell_type": "markdown",
   "source": "Try these operations:\n\n<table>\n    <thead>\n        <tr>\n            <th>Formule</th>\n            <th>Result</th>\n        </tr>\n    </thead>\n    <tbody>\n        <tr>\n            <td>poem[0]</td>\n            <td>?</td>\n        </tr>\n        <tr>\n            <td>poem[1]</td>\n            <td>?</td>\n        </tr>\n        <tr>\n            <td>poem[2]</td>\n            <td>?</td>\n        </tr>\n        <tr>\n            <td>poem[-1]</td>\n            <td>?</td>\n        </tr>\n        <tr>\n            <td>poem[-2]</td>\n            <td>?</td>\n        </tr>\n        <tr>\n            <td>poem[1] = \"A\"</td>\n            <td>?</td>\n        </tr>\n    </tbody>\n</table>",
   "metadata": {
    "id": "RzOOeMNNe4tb",
    "cell_id": "00027-acaebb64-1013-40eb-b220-7e6dfff788b4",
    "deepnote_cell_type": "markdown"
   }
  },
  {
   "cell_type": "markdown",
   "source": "As you can see, strings are **immutable**, meaning we can't modify them. ",
   "metadata": {
    "id": "nh2COoMtnVec",
    "cell_id": "00028-742e1602-ab37-45cd-800d-41925b56dcad",
    "deepnote_cell_type": "markdown"
   }
  },
  {
   "cell_type": "markdown",
   "source": "#### Slicing",
   "metadata": {
    "id": "3h8ZZArFfij-",
    "cell_id": "00029-8522b2fe-74f0-430c-99e3-ecbafe60a229",
    "deepnote_cell_type": "markdown"
   }
  },
  {
   "cell_type": "markdown",
   "source": "Strings can be thought of as sequences of characters. \nWhat are the first three characters? We can answer this question using slicing:\n\n```\npoem[0:3]\n```\n\nTry these :\n<table>\n    <thead>\n        <tr>\n            <th>Formule</th>\n            <th>Result</th>\n        </tr>\n    </thead>\n    <tbody>\n        <tr>\n            <td>poem[0:3]</td>\n            <td>?</td>\n        </tr>\n        <tr>\n            <td>poem[:3]</td>\n            <td>?</td>\n        </tr>\n        <tr>\n            <td>poem[1:2]</td>\n            <td>?</td>\n        </tr>\n        <tr>\n            <td>poem[1:-1]</td>\n            <td>?</td>\n        </tr>\n        <tr>\n            <td>poem[-2:]</td>\n            <td>?</td>\n        </tr>\n    </tbody>\n</table>",
   "metadata": {
    "id": "FVONq-VwfssS",
    "cell_id": "00030-6cc557e3-2976-4e1c-b048-9b1e299027e2",
    "deepnote_cell_type": "markdown"
   }
  },
  {
   "cell_type": "markdown",
   "source": "#### String functions",
   "metadata": {
    "id": "9i4s33CFhClI",
    "cell_id": "00031-9c3048bb-657d-4ad4-a4b6-1a00ede93886",
    "deepnote_cell_type": "markdown"
   }
  },
  {
   "cell_type": "markdown",
   "source": "Python has several useful functions for working with strings.\n\n`len` gives the length of a string:",
   "metadata": {
    "id": "gTrm1cpXhClL",
    "cell_id": "00032-f0e881f8-0231-4329-9e8f-03397d56e18d",
    "deepnote_cell_type": "markdown"
   }
  },
  {
   "cell_type": "code",
   "metadata": {
    "tags": [],
    "cell_id": "00036-87144d21-1f3b-4bba-b849-98e6c7f9424e",
    "deepnote_to_be_reexecuted": false,
    "source_hash": "f55c415e",
    "execution_start": 1629461989994,
    "execution_millis": 12,
    "deepnote_cell_type": "code"
   },
   "source": "# How many characters are there?\nlen(poem)",
   "execution_count": null,
   "outputs": [
    {
     "output_type": "execute_result",
     "execution_count": 32,
     "data": {
      "text/plain": "31"
     },
     "metadata": {}
    }
   ]
  },
  {
   "cell_type": "markdown",
   "source": "```sorted```returns a sorted version of a string:",
   "metadata": {
    "id": "pZ1-zPwhhClN",
    "cell_id": "00033-ceef76c4-6d23-4ee7-9295-9fa5c55cd68b",
    "deepnote_cell_type": "markdown"
   }
  },
  {
   "cell_type": "code",
   "metadata": {
    "tags": [],
    "cell_id": "00038-853cd7c4-258d-4a0f-97e9-13884f4ba921",
    "deepnote_cell_type": "code"
   },
   "source": "sorted(poem)",
   "execution_count": null,
   "outputs": []
  },
  {
   "cell_type": "markdown",
   "source": "```max``` and ```min``` return the biggest and the smallest character.\nTry : \n\n<table>\n    <thead>\n        <tr>\n            <th>Formule</th>\n            <th>Result</th>\n        </tr>\n    </thead>\n    <tbody>\n        <tr>\n            <td>max(poem)</td>\n            <td>?</td>\n        </tr>\n        <tr>\n            <td>min(poem)</td>\n            <td>?</td>\n        </tr>\n    </tbody>\n</table>\n",
   "metadata": {
    "id": "Q1AGDjAKhClP",
    "cell_id": "00034-0ea2a6ed-59a7-4676-a0fd-78f04a6e2615",
    "deepnote_cell_type": "markdown"
   }
  },
  {
   "cell_type": "markdown",
   "source": "#### Methods",
   "metadata": {
    "id": "hSGP0co8n7BR",
    "cell_id": "00035-fa9b50ca-45f9-4ea7-881e-f5a17d86377b",
    "deepnote_cell_type": "markdown"
   }
  },
  {
   "cell_type": "markdown",
   "source": "The type `str` has lots of very useful **methods**. I'll show just a few examples here.\n\n`str.lower()` returns all the characters in lower case\n\n`str.upper()` returns all the characters in upper case\n\n`str.index(\"stuff\")` returns the index (position) of the string you entered if it exists in the string\n\n`str.startswith(\"stuff\")` returns True if the string starts with the string given in input, else False\n\n`str.endswith(\"stuff\")` returns True if the string ends with the string given in input, else False\n\n`str.split(\"stuff\")` split the string in a list of strings, separated on the string given in input\n\n`str.strip()` removes the space at the begining and at the end of the string\n\n<table>\n    <thead>\n        <tr>\n            <th>Formule</th>\n            <th>Result</th>\n        </tr>\n    </thead>\n    <tbody>\n        <tr>\n            <td>poem.lower()</td>\n            <td>?</td>\n        </tr>\n        <tr>\n            <td>poem.upper()</td>\n            <td>?</td>\n        </tr>\n        <tr>\n            <td>poem.index(\"violet\")</td>\n            <td>?</td>\n        </tr>\n        <tr>\n            <td>poem.index(\"vioet\")</td>\n            <td>?</td>\n        </tr>\n        <tr>\n            <td>poem.startswith(\"violet\")</td>\n            <td>?</td>\n        </tr>\n        <tr>\n            <td>poem.startswith(\"Roses\")</td>\n            <td>?</td>\n        </tr>\n        <tr>\n            <td>poem.startswith(\"roses\")</td>\n            <td>?</td>\n        </tr>\n        <tr>\n            <td>poem.endswith(\"blue\")</td>\n            <td>?</td>\n        </tr>\n        <tr>\n            <td>poem.split()</td>\n            <td>?</td>\n        </tr>\n        <tr>\n            <td>poem.split(\",\")</td>\n            <td>?</td>\n        </tr>\n        <tr>\n            <td>\" Hello \".strip()</td>\n            <td>?</td>\n        </tr>\n    </tbody>\n</table>",
   "metadata": {
    "id": "uFXNEEKVoAnu",
    "cell_id": "00036-893b5dc4-68ca-4f76-a41d-7046caca6e32",
    "deepnote_cell_type": "markdown"
   }
  },
  {
   "cell_type": "code",
   "metadata": {
    "colab": {
     "base_uri": "https://localhost:8080/"
    },
    "id": "wadWrpfZoM8T",
    "outputId": "32217d66-30d5-46f8-bffa-2c37f277637d",
    "cell_id": "00037-72360aa4-d343-41ce-99f1-aa1bc09dcd73",
    "deepnote_cell_type": "code"
   },
   "source": "poem.split(\",\")",
   "execution_count": null,
   "outputs": [
    {
     "output_type": "execute_result",
     "data": {
      "text/plain": "['Roses are red', ' violets are blue']"
     },
     "metadata": {},
     "execution_count": 11
    }
   ]
  },
  {
   "cell_type": "markdown",
   "source": "### *2.2.3* List",
   "metadata": {
    "id": "XRdGmgfBdawm",
    "cell_id": "00038-70a0c917-d5a8-4311-80ca-7f5d4e7f6f43",
    "deepnote_cell_type": "markdown"
   }
  },
  {
   "cell_type": "markdown",
   "source": "#### Create a list",
   "metadata": {
    "id": "gR9o8LQ4ojJE",
    "cell_id": "00039-22d7fab0-9862-497a-a935-cbd4d24eb431",
    "deepnote_cell_type": "markdown"
   }
  },
  {
   "cell_type": "markdown",
   "source": "Lists in Python represent ordered sequences of values. Here is an example of how to create them:",
   "metadata": {
    "id": "jNR5zrdHMnbS",
    "cell_id": "00040-6e4c5be6-031d-4171-9d4f-ef049db42809",
    "deepnote_cell_type": "markdown"
   }
  },
  {
   "cell_type": "code",
   "metadata": {
    "tags": [],
    "cell_id": "00046-4c77a35e-a7ad-4568-a166-16a0cd7d137f",
    "deepnote_to_be_reexecuted": false,
    "source_hash": "8d18e349",
    "execution_start": 1629462076461,
    "execution_millis": 3,
    "deepnote_cell_type": "code"
   },
   "source": "ages = [2, 3, 5, 7]\nstudents = [\"Lucas\", \"Sara\", \"Pierre\", \"Olivier\"]\nchoices = [True, True, False, True]",
   "execution_count": null,
   "outputs": []
  },
  {
   "cell_type": "markdown",
   "source": "We can put many types in a list. We can even make a list of lists : ",
   "metadata": {
    "id": "MYawYgDRNDrZ",
    "cell_id": "00041-383d2961-7c38-4bb3-b2cd-20741b43c426",
    "deepnote_cell_type": "markdown"
   }
  },
  {
   "cell_type": "code",
   "metadata": {
    "tags": [],
    "cell_id": "00048-36061d4a-b6c8-4b45-88a0-361645415bc8",
    "deepnote_to_be_reexecuted": false,
    "source_hash": "759d34a9",
    "execution_start": 1629462113195,
    "execution_millis": 0,
    "deepnote_cell_type": "code"
   },
   "source": "profiles = [[2, \"Lucas\", True], [3, \"Sara\", True], [5, \"Pierre\", False]]",
   "execution_count": null,
   "outputs": []
  },
  {
   "cell_type": "markdown",
   "source": "And as you can see, a list can contain a mix of different types of variables. It's not true (or as easy) for every languages, so be careful",
   "metadata": {
    "tags": [],
    "cell_id": "00049-201eccc0-5b61-4740-89f7-ac9a3b6ece64",
    "deepnote_cell_type": "markdown"
   }
  },
  {
   "cell_type": "markdown",
   "source": "Try : \n```\nprofiles * 2\n```\nWhat happens ? \n```\n???\n```\n",
   "metadata": {
    "id": "ljLup2u81Dz0",
    "cell_id": "00043-4b8b1807-2ffe-43f5-a944-ba1577a20d9f",
    "deepnote_cell_type": "markdown"
   }
  },
  {
   "cell_type": "markdown",
   "source": "Try : \n```\nprofiles + [\"a\"]\n```\nWhat happens ? \n```\n???\n```\n",
   "metadata": {
    "tags": [],
    "cell_id": "00045-c4ac3af4-4960-4e7f-82bc-b1d4722bdcb0",
    "deepnote_cell_type": "markdown"
   }
  },
  {
   "cell_type": "markdown",
   "source": "#### Indexing",
   "metadata": {
    "id": "7DIN4xgBNcAF",
    "cell_id": "00044-729a5930-d9ce-4def-b836-e4797475099f",
    "deepnote_cell_type": "markdown"
   }
  },
  {
   "cell_type": "markdown",
   "source": "You can access individual list elements with square brackets.\n\nWhich `student` is the first of the list? \n\nPython uses <em>zero-based</em> indexing, so the first element has index 0.\n\nElements at the end of the list can be accessed with negative numbers, starting from -1",
   "metadata": {
    "id": "gRkFKxvNQwZp",
    "cell_id": "00045-69c2cafd-f6a0-4f38-b4ef-02f4036a2e64",
    "deepnote_cell_type": "markdown"
   }
  },
  {
   "cell_type": "markdown",
   "source": "Try these operations:\n\n<table>\n    <thead>\n        <tr>\n            <th>Formule</th>\n            <th>Result</th>\n        </tr>\n    </thead>\n    <tbody>\n        <tr>\n            <td>students[0]</td>\n            <td>?</td>\n        </tr>\n        <tr>\n            <td>students[1]</td>\n            <td>?</td>\n        </tr>\n        <tr>\n            <td>students[-1]</td>\n            <td>?</td>\n        </tr>\n        <tr>\n            <td>students[-2]</td>\n            <td>?</td>\n        </tr>\n        <tr>\n            <td>students[-3]</td>\n            <td>?</td>\n        </tr>\n        <tr>\n            <td>profiles[1]</td>\n            <td>?</td>\n        </tr>\n    </tbody>\n</table>\n\n\n\nNow, how do you get the value ```\"Sara\"``` from the list ```profiles``` ? \n\nWrite it below to remember :\n```\n???\n```",
   "metadata": {
    "id": "JlsmWZ2oRRfL",
    "cell_id": "00046-78c9ce03-4855-44db-a4c9-7544b0ec8173",
    "deepnote_cell_type": "markdown"
   }
  },
  {
   "cell_type": "markdown",
   "source": "#### Slicing",
   "metadata": {
    "id": "iWzTh6SkSCr5",
    "cell_id": "00047-fda1725f-b7f0-4abe-aa8f-45c21b2b2000",
    "deepnote_cell_type": "markdown"
   }
  },
  {
   "cell_type": "markdown",
   "source": "What are the first three students? We can answer this question using slicing:\n\n```\nstudents[0:3]\n```\n\nTry these operations:\n\n<table>\n    <thead>\n        <tr>\n            <th>Formule</th>\n            <th>Result</th>\n        </tr>\n    </thead>\n    <tbody>\n        <tr>\n            <td>students[0:3]</td>\n            <td>?</td>\n        </tr>\n        <tr>\n            <td>students[-2:]</td>\n            <td>?</td>\n        </tr>\n        <tr>\n            <td>profiles[:3]</td>\n            <td>?</td>\n        </tr>\n        <tr>\n            <td>profiles[1:1]</td>\n            <td>?</td>\n        </tr>\n        <tr>\n            <td>profiles[-2:]</td>\n            <td>?</td>\n        </tr>\n    </tbody>\n</table>",
   "metadata": {
    "id": "Pxnh6TAkSIQi",
    "cell_id": "00048-53f4e913-44e8-48e0-8556-1c94c5527021",
    "deepnote_cell_type": "markdown"
   }
  },
  {
   "cell_type": "markdown",
   "source": "#### List functions",
   "metadata": {
    "id": "TU7beDm-SISm",
    "cell_id": "00049-27674802-f33f-49ee-a02b-325d878afd18",
    "deepnote_cell_type": "markdown"
   }
  },
  {
   "cell_type": "markdown",
   "source": "Python has several useful functions for working with lists.\n\n`len` gives the length of a list:",
   "metadata": {
    "id": "-PXKDuhfU7wu",
    "cell_id": "00050-441c107c-294e-498d-8727-00f754fe2f63",
    "deepnote_cell_type": "markdown"
   }
  },
  {
   "cell_type": "code",
   "metadata": {
    "tags": [],
    "cell_id": "00059-46aa33fa-be92-42ef-b22f-585927e8f1f9",
    "deepnote_to_be_reexecuted": false,
    "source_hash": "3c61dc",
    "execution_start": 1629462221979,
    "execution_millis": 8,
    "deepnote_cell_type": "code"
   },
   "source": "# How many students are there?\nlen(students)",
   "execution_count": null,
   "outputs": [
    {
     "output_type": "execute_result",
     "execution_count": 37,
     "data": {
      "text/plain": "4"
     },
     "metadata": {}
    }
   ]
  },
  {
   "cell_type": "markdown",
   "source": "`sorted`returns a sorted version of a list:",
   "metadata": {
    "id": "pG_GzsTiU7zV",
    "cell_id": "00051-9ea0d118-0324-4443-ae00-1ea82cb90978",
    "deepnote_cell_type": "markdown"
   }
  },
  {
   "cell_type": "code",
   "metadata": {
    "tags": [],
    "cell_id": "00062-eb8395c0-0393-4900-971e-025853126ab6",
    "deepnote_to_be_reexecuted": false,
    "source_hash": "9201aaa9",
    "execution_start": 1629462268165,
    "execution_millis": 10,
    "deepnote_cell_type": "code"
   },
   "source": "sorted(students)",
   "execution_count": null,
   "outputs": [
    {
     "output_type": "execute_result",
     "execution_count": 39,
     "data": {
      "text/plain": "['Lucas', 'Olivier', 'Pierre', 'Sara']"
     },
     "metadata": {}
    }
   ]
  },
  {
   "cell_type": "code",
   "metadata": {
    "tags": [],
    "cell_id": "00062-43c7277d-87cf-4f35-bc69-b055ceb17792",
    "deepnote_to_be_reexecuted": false,
    "source_hash": "de613c97",
    "execution_start": 1629462268485,
    "execution_millis": 7,
    "deepnote_cell_type": "code"
   },
   "source": "\nsorted(choices)",
   "execution_count": null,
   "outputs": [
    {
     "output_type": "execute_result",
     "execution_count": 40,
     "data": {
      "text/plain": "[False, True, True, True]"
     },
     "metadata": {}
    }
   ]
  },
  {
   "cell_type": "markdown",
   "source": "```sum``` and ```max``` and ```min``` do what you might expect.\nTry : \n\n\n<table>\n    <thead>\n        <tr>\n            <th>Formule</th>\n            <th>Result</th>\n            <th>Formule</th>\n            <th>Result</th>\n            <th>Formule</th>\n            <th>Result</th>\n        </tr>\n    </thead>\n    <tbody>\n        <tr>\n            <td>sum(ages)</td>\n            <td>?</td>\n            <td>max(ages)</td>\n            <td>?</td>\n            <td>min(ages)</td>\n            <td>?</td>\n        </tr>\n        <tr>\n            <td>sum(students)</td>\n            <td>?</td>\n            <td>max(students)</td>\n            <td>?</td>\n            <td>min(students)</td>\n            <td>?</td>\n        </tr>\n        <tr>\n            <td>sum(choices)</td>\n            <td>?</td>\n            <td>max(choices)</td>\n            <td>?</td>\n            <td>min(choices)</td>\n            <td>?</td>\n        </tr>\n    </tbody>\n</table>",
   "metadata": {
    "id": "xfa4NVuOVmyN",
    "cell_id": "00052-4408e9f5-e574-4b05-86c6-b145a0de9cc7",
    "deepnote_cell_type": "markdown"
   }
  },
  {
   "cell_type": "markdown",
   "source": "#### List methods",
   "metadata": {
    "id": "4pq0WNlOyi_n",
    "cell_id": "00053-57fbbbd5-bbc0-434c-9aed-6d8a568d8f05",
    "deepnote_cell_type": "markdown"
   }
  },
  {
   "cell_type": "markdown",
   "source": "The type `list` has lots of very useful **methods**. I'll show just a few examples here.\n\n`list.append(element)` adds an element to the list\n\n`list.pop()` removes the last element of a list and return it\n\n`list.index(element)` return the index (position) of the element in the list, if it exists else, it will return an error\n\nTo avoid unpleasant surprises like this, we can use the `in` operator to determine whether a list contains a particular value.\n\n```\nelement in list -> return True or False\n```\n\n",
   "metadata": {
    "id": "AlxR4ozcymGH",
    "cell_id": "00054-a2ce8137-f144-43bb-bca9-7e3cf754e0d7",
    "deepnote_cell_type": "markdown"
   }
  },
  {
   "cell_type": "markdown",
   "source": "Now try : \n\n<table>\n    <thead>\n        <tr>\n            <th>Formule</th>\n            <th>Result</th>\n        </tr>\n    </thead>\n    <tbody>\n        <tr>\n            <td>students.append(\"Maurice\")</td>\n            <td>?</td>\n        </tr>\n        <tr>\n            <td>students.append(1)</td>\n            <td>?</td>\n        </tr>\n        <tr>\n            <td>students.pop()</td>\n            <td>?</td>\n        </tr>\n        <tr>\n            <td>students.index(1)</td>\n            <td>?</td>\n        </tr>\n        <tr>\n            <td>students.index(\"Lucas\")</td>\n            <td>?</td>\n        </tr>\n    </tbody>\n</table>",
   "metadata": {
    "id": "5vnUMNSN5j42",
    "cell_id": "00055-67c5d1f9-2e74-419f-8336-5b4e878ad087",
    "deepnote_cell_type": "markdown"
   }
  },
  {
   "cell_type": "markdown",
   "source": "### *2.2.4* Tuples",
   "metadata": {
    "id": "P6Y24apnozA2",
    "cell_id": "00056-526cd8a7-27da-46a9-a725-f51cb26dfb44",
    "deepnote_cell_type": "markdown"
   }
  },
  {
   "cell_type": "markdown",
   "source": "A **tuple** is a collection of Python objects separated by commas. In someways a tuple is similar to a list in terms of indexing, nested objects and repetition but a tuple is **immutable** unlike lists which are mutable.\n",
   "metadata": {
    "id": "h2UWIwnTddlg",
    "cell_id": "00057-e7bb6be8-5407-42c3-8166-302655be3fd0",
    "deepnote_cell_type": "markdown"
   }
  },
  {
   "cell_type": "code",
   "metadata": {
    "tags": [],
    "cell_id": "00069-0599092d-2048-49f4-b867-1ae828227057",
    "deepnote_to_be_reexecuted": false,
    "source_hash": "1fcf93e5",
    "execution_start": 1629462308890,
    "execution_millis": 10,
    "deepnote_cell_type": "code"
   },
   "source": "tup = ('python', 'is awesome')\nprint(tup)\nprint(type(tup))",
   "execution_count": null,
   "outputs": [
    {
     "name": "stdout",
     "text": "('python', 'is awesome')\n<class 'tuple'>\n",
     "output_type": "stream"
    }
   ]
  },
  {
   "cell_type": "markdown",
   "source": "### *2.2.5* Dictionnaries",
   "metadata": {
    "id": "JEwEMH571wBE",
    "cell_id": "00058-14c72ce2-e806-47a0-bbf6-fdc4f46c903c",
    "deepnote_cell_type": "markdown"
   }
  },
  {
   "cell_type": "markdown",
   "source": "#### Create a dictionnary ",
   "metadata": {
    "id": "mobgvFsZ1wER",
    "cell_id": "00059-c8e94a57-8555-4040-beb6-4f98fd12184d",
    "deepnote_cell_type": "markdown"
   }
  },
  {
   "cell_type": "markdown",
   "source": "**Dictionnaries** are a built-in Python data structure for mapping **keys to values**.",
   "metadata": {
    "id": "ULKmS1k88_xW",
    "cell_id": "00060-afa91fa4-0eca-4f00-b3bd-6a907e0be201",
    "deepnote_cell_type": "markdown"
   }
  },
  {
   "cell_type": "code",
   "metadata": {
    "tags": [],
    "cell_id": "00073-70db0ee7-dec3-4369-9518-f0575ff004ff",
    "deepnote_to_be_reexecuted": false,
    "source_hash": "2629a79f",
    "execution_start": 1629462364124,
    "execution_millis": 0,
    "deepnote_cell_type": "code"
   },
   "source": "dictionnary = {'key1':\"value1\", 'key2':\"value2\", 3:300}",
   "execution_count": null,
   "outputs": []
  },
  {
   "cell_type": "markdown",
   "source": "In this case 'key1', 'key2', and 3 are the keys, and \"value1\", \"value2\" and 300 are their corresponding values.\n\nValues are accessed via square bracket syntax similar to indexing into lists and strings.",
   "metadata": {
    "tags": [],
    "cell_id": "00074-c94216b6-8e57-4084-98d1-2598ee8919d6",
    "deepnote_cell_type": "markdown"
   }
  },
  {
   "cell_type": "code",
   "metadata": {
    "tags": [],
    "cell_id": "00075-4da793c6-61cb-433f-aef0-b510b08ae06f",
    "deepnote_to_be_reexecuted": false,
    "source_hash": "d6a92dbb",
    "execution_start": 1629462387816,
    "execution_millis": 13,
    "deepnote_cell_type": "code"
   },
   "source": "dictionnary['key1']",
   "execution_count": null,
   "outputs": [
    {
     "output_type": "execute_result",
     "execution_count": 45,
     "data": {
      "text/plain": "'value1'"
     },
     "metadata": {}
    }
   ]
  },
  {
   "cell_type": "markdown",
   "source": "We can use the same syntax to add another key, value pair",
   "metadata": {
    "tags": [],
    "cell_id": "00076-6bbb6ee4-cde9-46e3-8105-974db66bbd89",
    "deepnote_cell_type": "markdown"
   }
  },
  {
   "cell_type": "code",
   "metadata": {
    "tags": [],
    "cell_id": "00077-f017e152-f469-41bc-a14a-1fcea7ff69b5",
    "deepnote_to_be_reexecuted": false,
    "source_hash": "9e389add",
    "execution_start": 1629462409426,
    "execution_millis": 1,
    "deepnote_cell_type": "code"
   },
   "source": "dictionnary['eleven'] = 11",
   "execution_count": null,
   "outputs": []
  },
  {
   "cell_type": "markdown",
   "source": "Or to change the value associated with an existing key",
   "metadata": {
    "tags": [],
    "cell_id": "00078-d8ddc436-bd98-4382-81fd-8aa90fda85dc",
    "deepnote_cell_type": "markdown"
   }
  },
  {
   "cell_type": "code",
   "metadata": {
    "tags": [],
    "cell_id": "00079-b748f025-c85a-45a3-9d8c-714a28777b75",
    "deepnote_to_be_reexecuted": false,
    "source_hash": "e3241297",
    "execution_start": 1629462423901,
    "execution_millis": 0,
    "deepnote_cell_type": "code"
   },
   "source": "dictionnary['key1'] = 1",
   "execution_count": null,
   "outputs": []
  },
  {
   "cell_type": "markdown",
   "source": "The `in` operator tells us whether something is a key in the dictionary",
   "metadata": {
    "tags": [],
    "cell_id": "00080-d138a7c2-4a30-40c5-97b4-1eff06e39009",
    "deepnote_cell_type": "markdown"
   }
  },
  {
   "cell_type": "code",
   "metadata": {
    "tags": [],
    "cell_id": "00081-9709c2ff-0269-48c2-a03d-bdf26f3943eb",
    "deepnote_to_be_reexecuted": false,
    "source_hash": "1a8a652",
    "execution_start": 1629462436916,
    "execution_millis": 8,
    "deepnote_cell_type": "code"
   },
   "source": "'key1' in dictionnary",
   "execution_count": null,
   "outputs": [
    {
     "output_type": "execute_result",
     "execution_count": 48,
     "data": {
      "text/plain": "True"
     },
     "metadata": {}
    }
   ]
  },
  {
   "cell_type": "markdown",
   "source": "#### Methods",
   "metadata": {
    "id": "WXm3K7D09E45",
    "cell_id": "00061-b646bc24-0bc2-42ce-88d9-03717b67fc96",
    "deepnote_cell_type": "markdown"
   }
  },
  {
   "cell_type": "markdown",
   "source": "The type `dict` has lots of very useful **methods**. I'll show just a few examples here.\n\n`dict.keys()` returns a list containing all the elements of the dictionnary\n\n`dict.values()` returns a list containing all the values of the dictionnary",
   "metadata": {
    "id": "EdynXa1H9G3E",
    "cell_id": "00062-202d9ced-1ca6-4b32-b37f-14c2fa4f690f",
    "deepnote_cell_type": "markdown"
   }
  },
  {
   "cell_type": "markdown",
   "source": "Now try : \n\n<table>\n    <thead>\n        <tr>\n            <th>Formule</th>\n            <th>Result</th>\n        </tr>\n    </thead>\n    <tbody>\n        <tr>\n            <td>dictionnary.keys()</td>\n            <td>?</td>\n        </tr>\n        <tr>\n            <td>dictionnary.values()</td>\n            <td>?</td>\n        </tr>\n    </tbody>\n</table>",
   "metadata": {
    "id": "JLglhATR9cts",
    "cell_id": "00063-1d6817e9-6f32-48d4-a38b-4eb06624e606",
    "deepnote_cell_type": "markdown"
   }
  },
  {
   "cell_type": "markdown",
   "source": "### *2.2.6* Summary",
   "metadata": {
    "tags": [],
    "cell_id": "00085-3bda978f-0434-4324-9f9e-93285ff7fe95",
    "deepnote_cell_type": "markdown"
   }
  },
  {
   "cell_type": "markdown",
   "source": "There are many other objects that you will discover with time. \n\nHere is a small summary of what we have seen and other basic objects : \n\n\n<center><img src=\"https://miro.medium.com/max/1200/1*QfI8H_8HplGa1v9IrrWjBA.png\" width=\"800\" height=\"400\"></center>\n\n",
   "metadata": {
    "tags": [],
    "cell_id": "00086-59e050aa-f16a-4b21-86d2-d90bb7edd8d4",
    "deepnote_cell_type": "markdown"
   }
  },
  {
   "cell_type": "markdown",
   "source": "# 3. Logic and Conditions",
   "metadata": {
    "tags": [],
    "is_collapsed": false,
    "cell_id": "00085-e5e69897-42f8-4332-934c-7b2e1e8222f2",
    "deepnote_cell_type": "text-cell-h1"
   }
  },
  {
   "cell_type": "markdown",
   "source": "## *3.1* Booleans",
   "metadata": {
    "id": "Xg9_z_JG7Kra",
    "cell_id": "00065-ef554029-1414-4192-9cc8-6b655a1a9619",
    "deepnote_cell_type": "markdown"
   }
  },
  {
   "cell_type": "markdown",
   "source": "Python has a type of variable called `bool`. It has two possible values: `True` or `False`.",
   "metadata": {
    "id": "kF5fC2287P64",
    "cell_id": "00066-fe160dfe-55c9-47b2-9a5d-b78d7e9c55bc",
    "deepnote_cell_type": "markdown"
   }
  },
  {
   "cell_type": "code",
   "metadata": {
    "colab": {
     "base_uri": "https://localhost:8080/"
    },
    "id": "sXMrNTYz7pSo",
    "outputId": "53a88afd-2aa6-4f25-e41d-d9655fcc200b",
    "cell_id": "00067-4da7f887-cbc2-4f2f-b1b6-d1be8b5b48ce",
    "deepnote_cell_type": "code"
   },
   "source": "x = True\nprint(x)\nprint(type(x))",
   "execution_count": null,
   "outputs": [
    {
     "output_type": "stream",
     "text": "True\n<class 'bool'>\n",
     "name": "stdout"
    }
   ]
  },
  {
   "cell_type": "markdown",
   "source": "Rather than putting ```True``` or ```False``` directly in our code, we usually get boolean values from **boolean operators**. These are operators that answer yes/no questions. We'll go through some of these operators below.",
   "metadata": {
    "id": "TosVFzZs7u2g",
    "cell_id": "00068-6d9eb00e-b0f4-469a-aaf5-75badde03f04",
    "deepnote_cell_type": "markdown"
   }
  },
  {
   "cell_type": "markdown",
   "source": "| Operation | Description | | Operation | Description |\n| ------ | ------ |-| ------ | ------ |\n|a == b |\ta equal to b \t| |\ta != b |\ta not equal to b |\n|a < b |\ta less than b | |\ta > b |\ta greater than b |\n|a <= b |\ta less than or equal to b | |\ta >= b | a greater than or equal to b|",
   "metadata": {
    "id": "gVFfBjX98G9_",
    "cell_id": "00069-d1731025-3436-4f62-a518-191aee2df5af",
    "deepnote_cell_type": "markdown"
   }
  },
  {
   "cell_type": "markdown",
   "source": "Try these operations :\n\n| Operator And | Result | | Operator Or | Result | | Operator Not | Result |\n| ------ | ------ |-| ------ | ------ |-| ------ | ------ |\n|True and True | ?\t| |\tTrue or True | ? | | Not True | ? |\n|True and False |\t? | |\tTrue or False |\t? | | Not False | ? |\n|False and True |\t? | |\tFalse or True |\t? |\n|False and False | ?\t| |\tFalse or False | ? |",
   "metadata": {
    "id": "Hx1h7AvN9Xbh",
    "cell_id": "00070-e6542a41-b6eb-4f7f-bd5f-60db38217de6",
    "deepnote_cell_type": "markdown"
   }
  },
  {
   "cell_type": "markdown",
   "source": "Booleans are considered a numeric type in Python. This means they’re numbers for all intents and purposes. In other words, you can apply arithmetic operations to Booleans, and you can also compare them to numbers.\n\nThere aren’t many uses for the numerical nature of Boolean values, but there’s one technique you may find helpful. Because `True` is equal to `1` and `False` is equal to `0`, adding Booleans together is a quick way to count the number of `True` values. This can come in handy when you need to count the number of items that satisfy a condition.\n\nNow try these :\n\n| Bool == Int | Result | | Bool and Int | Result | | Bool == String | Result | | With Floats | Result |\n| ------ | ------ |-| ------ | ------ |-| ------ | ------ |-| ------ | ------ |\n|True == 1 | ? | | True and 1 |\t? | | True == '1' | ? | | True == 1.0 | ? |\n|False == 0 | ? | | True and 0 | ? | | False == '1' | ? | | 1 == 1.0 | ? |\n|True == 0 | ? | | False and 1 | ? | | False == '0' | ? |\n|False == 1 | ? | | False and 0 | ? |\n\n\n\n\n\n\n\n",
   "metadata": {
    "id": "k7YvZJXaMopL",
    "cell_id": "00071-3201a843-1e7c-4574-a06a-dbd9a5e92388",
    "deepnote_cell_type": "markdown"
   }
  },
  {
   "cell_type": "markdown",
   "source": "As you can see, ```True``` is equivalent to ```1``` and equivalent to ```1.0``` but not to ```'1'```. \n\n<font color='red'>**So be very careful when you compare values of different types.**</font>\n\n",
   "metadata": {
    "id": "r6bytyHM8GaR",
    "cell_id": "00072-314ae956-69ac-4052-9d54-490d9d8fde81",
    "deepnote_cell_type": "markdown"
   }
  },
  {
   "cell_type": "markdown",
   "source": "\nIf `True` is like `1` and `False` is like `0`, then  the operator `and` is like a multiplication and the operator `or` is like an addition and we look if the result is superior to zero.",
   "metadata": {
    "id": "xREOoZOvRy5R",
    "cell_id": "00073-3de81f40-f799-4767-8825-5096907f0a04",
    "deepnote_cell_type": "markdown"
   }
  },
  {
   "cell_type": "markdown",
   "source": "Ex 1:\n\n```\nTrue and False ( == False)\n1 * 0 ( == 0  so it's False)\n```\n\nEx 2:\n\n```\nTrue or True ( == True)\n1 + 1 ( == 2 > 0 so it's True)\n```\n\n\n\n",
   "metadata": {
    "id": "o8STCxaeR4c5",
    "cell_id": "00074-eba2f2c8-c798-44df-b723-99a1124a36bc",
    "deepnote_cell_type": "markdown"
   }
  },
  {
   "cell_type": "markdown",
   "source": "## *3.2* Conditions : if, elif, else (si, alors si, sinon)",
   "metadata": {
    "id": "B_fig3-xUEx8",
    "cell_id": "00075-f1cc2346-4990-416d-b38b-547f58469ff5",
    "deepnote_cell_type": "markdown"
   }
  },
  {
   "cell_type": "markdown",
   "source": "Booleans are most useful when combined with conditional statements, using the keywords ```if```, ```elif```, and ```else```.\n\nConditional statements, often referred to as <em>if-then</em> statements, let you control what pieces of code are run based on the value of some Boolean condition. Here's an example:",
   "metadata": {
    "id": "5pzQdci1LD4D",
    "cell_id": "00076-7b543b8b-919f-4598-ba86-af47c5cce9db",
    "deepnote_cell_type": "markdown"
   }
  },
  {
   "cell_type": "code",
   "metadata": {
    "id": "Tx94SzW8pD-0",
    "colab": {
     "base_uri": "https://localhost:8080/"
    },
    "outputId": "8e01c637-981c-4403-88c5-014ae3c3225c",
    "cell_id": "00077-10cb598d-1d19-4e0e-be36-f1c58f379472",
    "deepnote_cell_type": "code"
   },
   "source": "x = 2\n\nif (x == 0):\n    print(x, \"is zero\")\nelif (x > 0):\n    print(x, \"is positive\")\nelif (x < 0):\n    print(x, \"is negative\")\nelse:\n    print(x, \"is unlike anything I've ever seen...\")\n\nprint(\"I am out of the condition\")",
   "execution_count": null,
   "outputs": [
    {
     "output_type": "stream",
     "text": "2 is positive\nI am out of the condition\n",
     "name": "stdout"
    }
   ]
  },
  {
   "cell_type": "markdown",
   "source": "The ```if``` and ```else``` keywords are often used in other languages; its more unique keyword is ```elif```, a contraction of \"else if\". In these conditional clauses, ```elif``` and ```else``` blocks are optional; additionally, you can include as many ```elif``` statements as you would like.\n\nNote especially the use of colons (```:```) and whitespace to denote separate blocks of code. This is similar to what happens when we define a function - the function header ends with ```:```, and the following line is indented with 4 spaces. All subsequent indented lines belong to the body of the function, until we encounter an unindented line, ending the function definition.",
   "metadata": {
    "id": "u1pOjSpoLlXD",
    "cell_id": "00078-4ee0fed6-d592-4bbe-bf24-38a6de7faaf6",
    "deepnote_cell_type": "markdown"
   }
  },
  {
   "cell_type": "markdown",
   "source": "# 4. Loop",
   "metadata": {
    "tags": [],
    "is_collapsed": false,
    "cell_id": "00100-918dc5ed-0b2b-40c3-b52f-527903edcd87",
    "deepnote_cell_type": "text-cell-h1"
   }
  },
  {
   "cell_type": "markdown",
   "source": "## *4.1* For loops",
   "metadata": {
    "id": "4ZaJaYrXDTji",
    "cell_id": "00080-05e00eb2-4666-4fcb-bc65-583fffe39403",
    "deepnote_cell_type": "markdown"
   }
  },
  {
   "cell_type": "markdown",
   "source": "Loops are a way to repeatedly execute some code. Here's an example:",
   "metadata": {
    "id": "hcK8w1vHdBk_",
    "cell_id": "00081-d8180f3a-514d-4253-8e3a-fd2466411d65",
    "deepnote_cell_type": "markdown"
   }
  },
  {
   "cell_type": "code",
   "metadata": {
    "colab": {
     "base_uri": "https://localhost:8080/"
    },
    "id": "6Mal5LwOdUbX",
    "outputId": "abe356d0-8126-4422-9e1a-ea5ab1953e6d",
    "cell_id": "00082-275954b0-fa5d-43b1-b877-74a297570db0",
    "deepnote_cell_type": "code"
   },
   "source": "for number in [1,2,3,4,5]:\n    print(number)",
   "execution_count": null,
   "outputs": [
    {
     "output_type": "stream",
     "text": "1\n2\n3\n4\n5\n",
     "name": "stdout"
    }
   ]
  },
  {
   "cell_type": "markdown",
   "source": "The ```for``` loop specifies\n\n\n*   the variable name to use (in this case, number)\n*   the set of values to loop over (in this case, [1,2,3,4,5])\n\n\nYou use the word `in` to link them together.\n\nThe object to the right of the `in` can be any object that supports iteration. Basically, if it can be thought of as a group of things, you can probably loop over it. In addition to lists, we can iterate over the elements of a tuple:",
   "metadata": {
    "id": "YYADg-S0eM2n",
    "cell_id": "00083-614af130-20c0-469e-bcaa-8480143dd944",
    "deepnote_cell_type": "markdown"
   }
  },
  {
   "cell_type": "code",
   "metadata": {
    "tags": [],
    "cell_id": "00105-14869c1b-794f-4516-83cc-a3b0b3f1874a",
    "deepnote_to_be_reexecuted": false,
    "source_hash": "958f25e6",
    "execution_start": 1629462510205,
    "execution_millis": 16,
    "deepnote_cell_type": "code"
   },
   "source": "multiplicands = (2, 2, 2, 3, 3, 5)\nproduct = 1\nfor mult in multiplicands:\n    product = product * mult\nproduct",
   "execution_count": null,
   "outputs": [
    {
     "output_type": "execute_result",
     "execution_count": 49,
     "data": {
      "text/plain": "360"
     },
     "metadata": {}
    }
   ]
  },
  {
   "cell_type": "markdown",
   "source": "You can even loop through each character in a string:",
   "metadata": {
    "tags": [],
    "cell_id": "00106-f951f391-dc60-4f28-a848-fd6d6576744e",
    "deepnote_cell_type": "markdown"
   }
  },
  {
   "cell_type": "code",
   "metadata": {
    "tags": [],
    "cell_id": "00107-04381578-585b-42da-aec6-7c8b9e766e18",
    "deepnote_to_be_reexecuted": false,
    "source_hash": "d38a40cd",
    "execution_start": 1629462570944,
    "execution_millis": 18,
    "deepnote_cell_type": "code"
   },
   "source": "s = 'steganograpHy is the practicE of conceaLing a file, message, image, or video within another fiLe, message, image, Or video.'\nmsg = ''\n# print all the uppercase letters in s, one at a time\nfor char in s:\n    if char.isupper():\n        print(char, end='')   ",
   "execution_count": null,
   "outputs": [
    {
     "name": "stdout",
     "text": "HELLO",
     "output_type": "stream"
    }
   ]
  },
  {
   "cell_type": "markdown",
   "source": "**range()**\n\n`range()` is a function that returns a sequence of numbers. It turns out to be very useful for writing loops.\n\nFor example, if we want to repeat some action 5 times:",
   "metadata": {
    "tags": [],
    "cell_id": "00108-00893657-c333-4b39-82c5-8f808edd445c",
    "deepnote_cell_type": "markdown"
   }
  },
  {
   "cell_type": "code",
   "metadata": {
    "tags": [],
    "cell_id": "00109-642efd6f-7d2b-4849-a45e-512a518be288",
    "deepnote_to_be_reexecuted": false,
    "source_hash": "ddf2bd3f",
    "execution_start": 1629462556341,
    "execution_millis": 12,
    "deepnote_cell_type": "code"
   },
   "source": "for i in range(5):\n    print(\"Doing important work. i =\", i)",
   "execution_count": null,
   "outputs": [
    {
     "name": "stdout",
     "text": "Doing important work. i = 0\nDoing important work. i = 1\nDoing important work. i = 2\nDoing important work. i = 3\nDoing important work. i = 4\n",
     "output_type": "stream"
    }
   ]
  },
  {
   "cell_type": "markdown",
   "source": "## *4.2* While loops",
   "metadata": {
    "id": "KQq0Q6YPDcia",
    "cell_id": "00084-84005de0-fcdf-42eb-ad8e-97642c01d18d",
    "deepnote_cell_type": "markdown"
   }
  },
  {
   "cell_type": "markdown",
   "source": "The other type of loop in Python is a `while` loop, which iterates until some condition is met:\n\n```\ni = 0\nwhile i < 10:\n    print(i, end=' ')\n    i += 1 # increase the value of i by 1\n```\nThe argument of the while loop is evaluated as a boolean statement, and the loop is executed **until the statement evaluates to False**.\n\n<font color='red'>**Warning : while loops can lead to infinite loop quite easily.**</font> Here, if we did not assign ```i = i + 1```, we would loop forever, waiting for `i` to be equal to 10.\n",
   "metadata": {
    "id": "UdvFOkwYDvUu",
    "cell_id": "00085-f214b436-a9e3-400c-a820-541e6240e4bd",
    "deepnote_cell_type": "markdown"
   }
  },
  {
   "cell_type": "markdown",
   "source": "## List comprehension",
   "metadata": {
    "id": "z7YD1OnziyYd",
    "cell_id": "00086-47e73810-dedc-4908-a6e7-422f249b1ae9",
    "deepnote_cell_type": "markdown"
   }
  },
  {
   "cell_type": "markdown",
   "source": "List comprehensions are one of Python's most beloved and unique features. The easiest way to understand them is probably to just look at a few examples:",
   "metadata": {
    "id": "C6sOMy8Oi28o",
    "cell_id": "00087-654cb654-8752-4f1b-980d-23a2a407db59",
    "deepnote_cell_type": "markdown"
   }
  },
  {
   "cell_type": "code",
   "metadata": {
    "tags": [],
    "cell_id": "00090-e0baabf3-18cb-4faf-900c-24a0469b1b52",
    "deepnote_to_be_reexecuted": false,
    "source_hash": "11e514a",
    "execution_start": 1629453112730,
    "execution_millis": 16,
    "deepnote_cell_type": "code"
   },
   "source": "squares = [n**2 for n in range(10)]\nsquares",
   "execution_count": null,
   "outputs": [
    {
     "output_type": "execute_result",
     "execution_count": 2,
     "data": {
      "text/plain": "[0, 1, 4, 9, 16, 25, 36, 49, 64, 81]"
     },
     "metadata": {}
    }
   ]
  },
  {
   "cell_type": "markdown",
   "source": "Here's how we would do the same thing without a list comprehension:",
   "metadata": {
    "tags": [],
    "cell_id": "00090-f3ec13cd-82d6-4e67-b2df-3d31140d9587",
    "deepnote_cell_type": "markdown"
   }
  },
  {
   "cell_type": "code",
   "metadata": {
    "tags": [],
    "cell_id": "00090-6a3d4401-6421-474b-817d-820027f6f22c",
    "deepnote_to_be_reexecuted": false,
    "source_hash": "b2228775",
    "execution_start": 1629453143656,
    "execution_millis": 12,
    "deepnote_cell_type": "code"
   },
   "source": "squares = []\nfor n in range(10):\n    squares.append(n**2)\nsquares",
   "execution_count": null,
   "outputs": [
    {
     "output_type": "execute_result",
     "execution_count": 3,
     "data": {
      "text/plain": "[0, 1, 4, 9, 16, 25, 36, 49, 64, 81]"
     },
     "metadata": {}
    }
   ]
  },
  {
   "cell_type": "markdown",
   "source": "We can also add an if condition:",
   "metadata": {
    "tags": [],
    "cell_id": "00092-2d539124-1a5d-4ccb-915c-f55c29b1eb3c",
    "deepnote_cell_type": "markdown"
   }
  },
  {
   "cell_type": "code",
   "metadata": {
    "tags": [],
    "cell_id": "00093-fc41abdb-9025-408f-9062-67d9807a9597",
    "deepnote_to_be_reexecuted": false,
    "source_hash": "a1b57735",
    "execution_start": 1629453187803,
    "execution_millis": 12,
    "deepnote_cell_type": "code"
   },
   "source": "planets = ['Mercury', 'Venus', 'Earth', 'Mars', 'Jupiter', 'Saturn', 'Uranus', 'Neptune']\nshort_planets = [planet for planet in planets if len(planet) < 6]\nshort_planets",
   "execution_count": null,
   "outputs": [
    {
     "output_type": "execute_result",
     "execution_count": 5,
     "data": {
      "text/plain": "['Venus', 'Earth', 'Mars']"
     },
     "metadata": {}
    }
   ]
  },
  {
   "cell_type": "markdown",
   "source": "Here's an example of filtering with an `if` condition and applying some transformation to the loop variable:\n",
   "metadata": {
    "tags": [],
    "cell_id": "00094-319d9c13-de63-41ca-a153-8b29d28e09e5",
    "deepnote_cell_type": "markdown"
   }
  },
  {
   "cell_type": "code",
   "metadata": {
    "tags": [],
    "cell_id": "00095-696029b7-1737-456c-9f4f-1d9d7ef6548e",
    "deepnote_to_be_reexecuted": false,
    "source_hash": "9414de8d",
    "execution_start": 1629453339447,
    "execution_millis": 10,
    "deepnote_cell_type": "code"
   },
   "source": "# str.upper() returns an all-caps version of a string\nloud_short_planets = [planet.upper() + '!' for planet in planets if len(planet) < 6]\nloud_short_planets",
   "execution_count": null,
   "outputs": [
    {
     "output_type": "execute_result",
     "execution_count": 6,
     "data": {
      "text/plain": "['VENUS!', 'EARTH!', 'MARS!']"
     },
     "metadata": {}
    }
   ]
  },
  {
   "cell_type": "markdown",
   "source": "The expression on the left doesn't technically have to involve the loop variable (though it'd be pretty unusual for it not to). What do you think the expression below will evaluate to? Press the 'output' button to check.",
   "metadata": {
    "tags": [],
    "cell_id": "00096-783968fd-38ef-4a29-8754-6d5c303af10b",
    "deepnote_cell_type": "markdown"
   }
  },
  {
   "cell_type": "code",
   "metadata": {
    "tags": [],
    "cell_id": "00097-e4345115-4fc0-4233-ae18-72390274447a",
    "deepnote_to_be_reexecuted": false,
    "source_hash": "a60abb0f",
    "execution_start": 1629453384323,
    "execution_millis": 6,
    "deepnote_cell_type": "code"
   },
   "source": "[32 for planet in planets]",
   "execution_count": null,
   "outputs": [
    {
     "output_type": "execute_result",
     "execution_count": 7,
     "data": {
      "text/plain": "[32, 32, 32, 32, 32, 32, 32, 32]"
     },
     "metadata": {}
    }
   ]
  },
  {
   "cell_type": "markdown",
   "source": "# 5. Functions",
   "metadata": {
    "tags": [],
    "is_collapsed": false,
    "cell_id": "00123-095e7fef-110c-49de-9840-c44d947b4406",
    "deepnote_cell_type": "text-cell-h1"
   }
  },
  {
   "cell_type": "markdown",
   "source": "## *5.1* Defining functions",
   "metadata": {
    "tags": [],
    "cell_id": "00100-44ccadf2-4d6f-473f-ae5a-0dcd91f05b83",
    "deepnote_cell_type": "markdown"
   }
  },
  {
   "cell_type": "markdown",
   "source": "Built-in functions are great, but we can only get so far with them before we need to start defining our own functions. Below is a simple example.\n",
   "metadata": {
    "id": "EUbRrT4oi2_T",
    "cell_id": "00088-64da57c4-2042-456d-82be-718cc0be3fa9",
    "deepnote_cell_type": "markdown"
   }
  },
  {
   "cell_type": "code",
   "metadata": {
    "tags": [],
    "cell_id": "00102-2748d80f-a87d-45b3-b242-b2267490ce32",
    "deepnote_to_be_reexecuted": false,
    "source_hash": "7b550ff6",
    "execution_start": 1629460754447,
    "execution_millis": 0,
    "deepnote_cell_type": "code"
   },
   "source": "def least_difference(a, b, c):\n    diff1 = abs(a - b)\n    diff2 = abs(b - c)\n    diff3 = abs(a - c)\n    return min(diff1, diff2, diff3)",
   "execution_count": null,
   "outputs": []
  },
  {
   "cell_type": "markdown",
   "source": "This creates a function called `least_difference`, which takes three arguments, `a`, `b`, and `c`.\n\nFunctions start with a header introduced by the `def` keyword. The indented block of code following the `:` is run when the function is called.\n\n`return` is another keyword uniquely associated with functions. When Python encounters a return statement, it exits the function immediately, and passes the value on the right hand side to the calling context.\n\nIs it clear what `least_difference()` does from the source code? If we're not sure, we can always try it out on a few examples:\n",
   "metadata": {
    "tags": [],
    "cell_id": "00103-c7dbbc33-e6a3-49e4-ab41-cef5bdc588c8",
    "deepnote_cell_type": "markdown"
   }
  },
  {
   "cell_type": "code",
   "metadata": {
    "tags": [],
    "cell_id": "00104-dcc5dfa3-e6d6-44a2-8bc6-d80c397571ce",
    "deepnote_to_be_reexecuted": false,
    "source_hash": "4a61aca",
    "execution_start": 1629460837023,
    "execution_millis": 0,
    "deepnote_cell_type": "code"
   },
   "source": "print(\n    least_difference(1, 10, 100),\n    least_difference(1, 10, 10),\n    least_difference(5, 6, 7), # Python allows trailing commas in argument lists. How nice is that?\n)",
   "execution_count": null,
   "outputs": [
    {
     "name": "stdout",
     "text": "9 0 1\n",
     "output_type": "stream"
    }
   ]
  },
  {
   "cell_type": "markdown",
   "source": "## *5.2* Functions that don't return ",
   "metadata": {
    "tags": [],
    "cell_id": "00105-7c12e9a2-8536-4c91-b125-1caf8f4404e3",
    "deepnote_cell_type": "markdown"
   }
  },
  {
   "cell_type": "markdown",
   "source": "What would happen if we didn't include the `return` keyword in our function?",
   "metadata": {
    "tags": [],
    "cell_id": "00106-99ad4802-03f4-445f-9fcd-5c4197b2cec3",
    "deepnote_cell_type": "markdown"
   }
  },
  {
   "cell_type": "code",
   "metadata": {
    "tags": [],
    "cell_id": "00107-691fdd1d-fc97-48eb-92b2-bb281bb5ed81",
    "deepnote_to_be_reexecuted": false,
    "source_hash": "56f396f6",
    "execution_start": 1629461020715,
    "execution_millis": 9,
    "deepnote_cell_type": "code"
   },
   "source": "def least_difference(a, b, c):\n    \"\"\"Return the smallest difference between any two numbers\n    among a, b and c.\n    \"\"\"\n    diff1 = abs(a - b)\n    diff2 = abs(b - c)\n    diff3 = abs(a - c)\n    min(diff1, diff2, diff3)\n    \nprint(\n    least_difference(1, 10, 100),\n    least_difference(1, 10, 10),\n    least_difference(5, 6, 7),\n)",
   "execution_count": null,
   "outputs": [
    {
     "name": "stdout",
     "text": "None None None\n",
     "output_type": "stream"
    }
   ]
  },
  {
   "cell_type": "markdown",
   "source": "Python allows us to define such functions. The result of calling them is the special value `None`. (This is similar to the concept of \"null\" in other languages.)\n\nWithout a `return` statement, least_difference is completely pointless, but a function with side effects may do something useful without returning anything. We've already seen one example of this: `print()` doesn't return anything. We only call it for its side effect (putting some text on the screen). Other examples of useful side effects include writing to a file, or modifying an input.\n",
   "metadata": {
    "tags": [],
    "cell_id": "00108-27305d9f-cf0b-4f65-b360-60bb3d134716",
    "deepnote_cell_type": "markdown"
   }
  },
  {
   "cell_type": "markdown",
   "source": "## *5.3* Default arguments",
   "metadata": {
    "tags": [],
    "cell_id": "00109-b4a9c566-dc01-45b4-8ab0-6443cf475303",
    "deepnote_cell_type": "markdown"
   }
  },
  {
   "cell_type": "markdown",
   "source": "When we called `print(a)`, we saw that the `print` function has several optional arguments. For example, we can specify a value for `sep` to put some special string in between our printed arguments:",
   "metadata": {
    "tags": [],
    "cell_id": "00110-1edbed75-994c-4083-8cc3-efb5bd60e230",
    "deepnote_cell_type": "markdown"
   }
  },
  {
   "cell_type": "code",
   "metadata": {
    "tags": [],
    "cell_id": "00111-cca710c3-2cba-43f2-b82c-568ce0ed90a2",
    "deepnote_to_be_reexecuted": false,
    "source_hash": "edd10846",
    "execution_start": 1629461206899,
    "execution_millis": 8,
    "deepnote_cell_type": "code"
   },
   "source": "print(1, 2, 3, sep=' < ')",
   "execution_count": null,
   "outputs": [
    {
     "name": "stdout",
     "text": "1 < 2 < 3\n",
     "output_type": "stream"
    }
   ]
  },
  {
   "cell_type": "markdown",
   "source": "But if we don't specify a value, `sep` is treated as having a default value of `' '` (a single space).",
   "metadata": {
    "tags": [],
    "cell_id": "00112-aca6f73a-85c3-4846-b7fc-3ee94e31451c",
    "deepnote_cell_type": "markdown"
   }
  },
  {
   "cell_type": "code",
   "metadata": {
    "tags": [],
    "cell_id": "00113-060233a0-2202-4bae-aacc-bfb103a1b769",
    "deepnote_to_be_reexecuted": false,
    "source_hash": "9086f93c",
    "execution_start": 1629461250119,
    "execution_millis": 9,
    "deepnote_cell_type": "code"
   },
   "source": "print(1, 2, 3)",
   "execution_count": null,
   "outputs": [
    {
     "name": "stdout",
     "text": "1 2 3\n",
     "output_type": "stream"
    }
   ]
  },
  {
   "cell_type": "markdown",
   "source": "Adding optional arguments with default values to the functions we define turns out to be pretty easy:",
   "metadata": {
    "tags": [],
    "cell_id": "00114-3419acf9-3352-473b-8106-a8196835a753",
    "deepnote_cell_type": "markdown"
   }
  },
  {
   "cell_type": "code",
   "metadata": {
    "tags": [],
    "cell_id": "00115-d46e9f5e-6b8b-4303-87b5-fb0af08c4901",
    "deepnote_to_be_reexecuted": false,
    "source_hash": "7f3a87d7",
    "execution_start": 1629461281031,
    "execution_millis": 0,
    "deepnote_cell_type": "code"
   },
   "source": "def greet(who=\"Colin\"):\n    print(\"Hello,\", who)\n    \ngreet()\ngreet(who=\"EM\")\n# (In this case, we don't need to specify the name of the argument, because it's unambiguous.)\ngreet(\"world\")",
   "execution_count": null,
   "outputs": [
    {
     "name": "stdout",
     "text": "Hello, Colin\nHello, EM\nHello, world\n",
     "output_type": "stream"
    }
   ]
  },
  {
   "cell_type": "markdown",
   "source": "## *5.4* Functions applied to functions (bonus)",
   "metadata": {
    "tags": [],
    "cell_id": "00116-39898915-5ba4-41b5-86cc-6dd5cc3577bc",
    "deepnote_cell_type": "markdown"
   }
  },
  {
   "cell_type": "markdown",
   "source": "Here's something that's powerful, though it can feel very abstract at first. You can supply functions as arguments to other functions. Some example may make this clearer:",
   "metadata": {
    "tags": [],
    "cell_id": "00117-c35cc746-a508-46a0-928e-e7ac0162bc99",
    "deepnote_cell_type": "markdown"
   }
  },
  {
   "cell_type": "code",
   "metadata": {
    "tags": [],
    "cell_id": "00118-be94bf0d-1d76-4685-a60d-c86551995433",
    "deepnote_to_be_reexecuted": false,
    "source_hash": "a083ff09",
    "execution_start": 1629461383119,
    "execution_millis": 8,
    "deepnote_cell_type": "code"
   },
   "source": "def mult_by_five(x):\n    return 5 * x\n\ndef call(fn, arg):\n    \"\"\"Call fn on arg\"\"\"\n    return fn(arg)\n\ndef squared_call(fn, arg):\n    \"\"\"Call fn on the result of calling fn on arg\"\"\"\n    return fn(fn(arg))\n\nprint(\n    call(mult_by_five, 1),\n    squared_call(mult_by_five, 1), \n    sep='\\n', # '\\n' is the newline character - it starts a new line\n)",
   "execution_count": null,
   "outputs": [
    {
     "name": "stdout",
     "text": "5\n25\n",
     "output_type": "stream"
    }
   ]
  },
  {
   "cell_type": "markdown",
   "source": "Functions that operate on other functions are called \"higher-order functions.\" You probably won't write your own for a little while. But there are higher-order functions built into Python that you might find useful to call.\n\nHere's an interesting example using the `max` function.\n\nBy default, `max` returns the largest of its arguments. But if we pass in a function using the optional `key` argument, it returns the argument `x` that maximizes `key(x)` (aka the 'argmax').\n",
   "metadata": {
    "tags": [],
    "cell_id": "00119-d69c6589-7728-4cda-bc3c-95b6ef28670d",
    "deepnote_cell_type": "markdown"
   }
  },
  {
   "cell_type": "code",
   "metadata": {
    "tags": [],
    "cell_id": "00120-e2b53f02-14a0-4331-9005-effbcefa6096",
    "deepnote_to_be_reexecuted": false,
    "source_hash": "47cf6ea1",
    "execution_start": 1629461458939,
    "execution_millis": 8,
    "deepnote_cell_type": "code"
   },
   "source": "def mod_5(x):\n    \"\"\"Return the remainder of x after dividing by 5\"\"\"\n    return x % 5\n\nprint(\n    'Which number is biggest?',\n    max(100, 51, 14),\n    'Which number is the biggest modulo 5?',\n    max(100, 51, 14, key=mod_5),\n    sep='\\n',\n)",
   "execution_count": null,
   "outputs": [
    {
     "name": "stdout",
     "text": "Which number is biggest?\n100\nWhich number is the biggest modulo 5?\n14\n",
     "output_type": "stream"
    }
   ]
  },
  {
   "cell_type": "markdown",
   "source": "# Your turn",
   "metadata": {
    "id": "ElOE4-bEGEs7",
    "cell_id": "00089-a7e84044-94df-49fd-b731-16b7a9dec314",
    "deepnote_cell_type": "markdown"
   }
  },
  {
   "cell_type": "markdown",
   "source": "## *1.3* Create my first script in Python",
   "metadata": {
    "id": "COkJGFNZll8l",
    "cell_id": "00090-4a6e78e2-37ea-4c80-b9c4-b2f03ab3acd9",
    "deepnote_cell_type": "markdown"
   }
  },
  {
   "cell_type": "markdown",
   "source": "<font color='red'>**Exercize :** </font>\nReproduce the function `sum(list)`, without any built-in functions, on list of integers, floats. With a `for` loop. \n\n",
   "metadata": {
    "tags": [],
    "cell_id": "00102-b11cedbe-5404-4cb9-a9b0-7a0a4aac0f35",
    "deepnote_cell_type": "markdown"
   }
  },
  {
   "cell_type": "code",
   "metadata": {
    "tags": [],
    "cell_id": "00103-fc61a7db-8379-41e5-97bb-d1510f611d6d",
    "deepnote_cell_type": "code"
   },
   "source": "",
   "execution_count": null,
   "outputs": []
  },
  {
   "cell_type": "markdown",
   "source": "<font color='red'>**Exercize :** </font>\nReproduce the function `sum(list)`, without any built-in functions, on list of integers, floats. With a `while` loop. ",
   "metadata": {
    "tags": [],
    "cell_id": "00104-771f6a3a-27fd-48eb-8dde-dcb44f2f46e7",
    "deepnote_cell_type": "markdown"
   }
  },
  {
   "cell_type": "code",
   "metadata": {
    "tags": [],
    "cell_id": "00105-de5e1d3c-7cbc-4ab9-8a03-bf7da7b6af87",
    "deepnote_cell_type": "code"
   },
   "source": "",
   "execution_count": null,
   "outputs": []
  },
  {
   "cell_type": "markdown",
   "source": "<font color='red'>**Exercize :** </font>\nReproduce the function `max(list)`, without any built-in functions, on list of integers, floats and strings. \n\n**Hint** : You can do it by using a `for` loop and an `if`.",
   "metadata": {
    "id": "3T4P32cc5-FX",
    "cell_id": "00091-2d6387ed-16fd-4f99-a46c-339181228d45",
    "deepnote_cell_type": "markdown"
   }
  },
  {
   "cell_type": "code",
   "metadata": {
    "tags": [],
    "cell_id": "00107-51acd327-11e5-4316-abba-dbf37c6801c6",
    "deepnote_cell_type": "code"
   },
   "source": "",
   "execution_count": null,
   "outputs": []
  },
  {
   "cell_type": "markdown",
   "source": "<font color='red'>**Exercize :** </font>\nReproduce the function `list.index(element)`, without any built-in functions, on list of integers, floats and strings. \n\n**Hint** : You can do it by using a `for` loop and an `if`.",
   "metadata": {
    "tags": [],
    "cell_id": "00103-2f610cd3-c16a-4366-8d30-822a31ad8644",
    "deepnote_cell_type": "markdown"
   }
  },
  {
   "cell_type": "code",
   "metadata": {
    "tags": [],
    "cell_id": "00105-420bfd12-78e5-40a5-b333-9f2958f48875",
    "deepnote_cell_type": "code"
   },
   "source": "",
   "execution_count": null,
   "outputs": []
  },
  {
   "cell_type": "markdown",
   "source": "<font color='red'>**Exercize :** </font>\nReproduce the function `sorted(list)`, without any built-in functions, on list of integers, floats and strings. \n\n**Hint** : You can do it by using a `for` loop and an `if`, 2 lists where one is empty and will be completed steps by steps",
   "metadata": {
    "tags": [],
    "cell_id": "00110-bd86d94f-0b73-45c7-9d5b-30733f11405f",
    "deepnote_cell_type": "markdown"
   }
  },
  {
   "cell_type": "code",
   "metadata": {
    "tags": [],
    "cell_id": "00111-6d32b7f2-3d17-4d22-ae95-ae9d77002e51",
    "deepnote_cell_type": "code"
   },
   "source": "",
   "execution_count": null,
   "outputs": []
  },
  {
   "cell_type": "markdown",
   "source": "<font color='red'>**Exercize :** </font>\nCreate a list of the `n` first prime numbers, you can use any built-in function but you need to create a function that will take n as a parameter and return the list\n",
   "metadata": {
    "tags": [],
    "cell_id": "00112-47369eb6-1114-4a82-b99a-d0e1a47f0c2d",
    "deepnote_cell_type": "markdown"
   }
  },
  {
   "cell_type": "code",
   "metadata": {
    "tags": [],
    "cell_id": "00113-be6b585e-cb97-4790-97bb-9aaabaf3640c",
    "deepnote_cell_type": "code"
   },
   "source": "",
   "execution_count": null,
   "outputs": []
  },
  {
   "cell_type": "markdown",
   "source": "# *3*. Python objects commonly used in Data Analysis",
   "metadata": {
    "id": "wNlzH_7zo1l-",
    "cell_id": "00095-1e4daa2d-41fb-4422-b50b-36d7165dca72",
    "deepnote_cell_type": "markdown"
   }
  },
  {
   "cell_type": "markdown",
   "source": "## *3.1* Numpy Matrix",
   "metadata": {
    "id": "Fh1bdkZ4qcWg",
    "cell_id": "00098-27cbb02c-8ff5-4cc7-aa48-19ea7119a6ae",
    "deepnote_cell_type": "markdown"
   }
  },
  {
   "cell_type": "markdown",
   "source": "`NumPy` is a fundamental library that most of the widely used Python data processing libraries are built upon (`pandas`, `OpenCV`), inspired by (`PyTorch`), or can efficiently share data with (`TensorFlow`, `Keras`, etc). Understanding how `NumPy` works gives a boost to your skills in those libraries as well. It is also…\n\nThe central concept of `NumPy` is an n-dimensional array. The beauty of it is that most operations look just the same, no matter how many dimensions an array has. But 1D and 2D cases are a bit special.",
   "metadata": {
    "tags": [],
    "cell_id": "00161-860bda80-17e7-46dd-b2e9-651deaeadb3f",
    "deepnote_cell_type": "markdown"
   }
  },
  {
   "cell_type": "markdown",
   "source": "### *3.1.0* Using NumPy",
   "metadata": {
    "tags": [],
    "cell_id": "00162-5a8dfde3-d519-4c99-9101-390ac310c955",
    "deepnote_cell_type": "markdown"
   }
  },
  {
   "cell_type": "markdown",
   "source": "To use the NumPy arrays, we need to import the numpy package",
   "metadata": {
    "tags": [],
    "cell_id": "00163-236724fd-3cf5-4f16-a6c5-c10489ac425f",
    "deepnote_cell_type": "markdown"
   }
  },
  {
   "cell_type": "code",
   "metadata": {
    "tags": [],
    "cell_id": "00164-dd61cf6c-e58a-4d7c-85e7-f99abbe54eac",
    "deepnote_to_be_reexecuted": false,
    "source_hash": "c2602aa8",
    "execution_start": 1629465412257,
    "execution_millis": 5,
    "deepnote_cell_type": "code"
   },
   "source": "import numpy as np",
   "execution_count": null,
   "outputs": []
  },
  {
   "cell_type": "markdown",
   "source": "### *3.1.1* Creating 1D Arrays",
   "metadata": {
    "tags": [],
    "cell_id": "00163-0f391f5b-e134-4b2f-aca9-cde3ecfbf7fb",
    "deepnote_cell_type": "markdown"
   }
  },
  {
   "cell_type": "markdown",
   "source": "We can create a NumPy array (a.k.a. the mighty ndarray) by passing a python list to it and using ` np.array()`. In this case, python creates the array we can see on the right here:",
   "metadata": {
    "tags": [],
    "cell_id": "00163-ff8ffcb7-4e86-4581-93c9-c8e033c451cb",
    "deepnote_cell_type": "markdown"
   }
  },
  {
   "cell_type": "code",
   "metadata": {
    "tags": [],
    "cell_id": "00167-de1ee14a-7a76-4b7b-8582-0c1ef79bac49",
    "deepnote_to_be_reexecuted": false,
    "source_hash": "cc86fac3",
    "execution_start": 1629465765277,
    "execution_millis": 0,
    "deepnote_cell_type": "code"
   },
   "source": "data = np.array([1,2,3])\nprint(data)",
   "execution_count": null,
   "outputs": [
    {
     "name": "stdout",
     "text": "[1 2 3]\n[1. 1. 1.]\n",
     "output_type": "stream"
    }
   ]
  },
  {
   "cell_type": "markdown",
   "source": "<center><img src=\"http://jalammar.github.io/images/numpy/create-numpy-array-1.png\" width=\"600\" height=\"200\"></center>\n\nThere are often cases when we want NumPy to initialize the values of the array for us. NumPy provides methods like ones(), zeros(), and random.random() for these cases. We just pass them the number of elements we want it to generate:\n\n<center><img src=\"http://jalammar.github.io/images/numpy/create-numpy-array-ones-zeros-random.png\" width=\"800\" height=\"200\"></center>\n",
   "metadata": {
    "tags": [],
    "cell_id": "00168-9b5e7b6a-248e-40cb-b04f-0c8e89e00d20",
    "deepnote_cell_type": "markdown"
   }
  },
  {
   "cell_type": "code",
   "metadata": {
    "tags": [],
    "cell_id": "00169-f5eb960c-a4cd-4f43-95a7-f813be59de40",
    "deepnote_to_be_reexecuted": false,
    "source_hash": "e5c322ab",
    "execution_start": 1629465793493,
    "execution_millis": 0,
    "deepnote_cell_type": "code"
   },
   "source": "ones = np.ones(3)\nprint(ones)",
   "execution_count": null,
   "outputs": [
    {
     "name": "stdout",
     "text": "[1. 1. 1.]\n",
     "output_type": "stream"
    }
   ]
  },
  {
   "cell_type": "markdown",
   "source": "### *3.1.2* Array Arithmetic",
   "metadata": {
    "tags": [],
    "cell_id": "00169-eb597371-bcbd-488f-8396-894dcd2bbdde",
    "deepnote_cell_type": "markdown"
   }
  },
  {
   "cell_type": "markdown",
   "source": "Adding numpy arrays position-wise (i.e. adding the values of each row) is as simple as typing `data` + `ones`:",
   "metadata": {
    "tags": [],
    "cell_id": "00170-17ee3e70-645d-42fb-ae8d-94c4fa262659",
    "deepnote_cell_type": "markdown"
   }
  },
  {
   "cell_type": "code",
   "metadata": {
    "tags": [],
    "cell_id": "00171-8357d8e5-23d3-4372-80a3-d25159e78f5a",
    "deepnote_to_be_reexecuted": false,
    "source_hash": "d73ac293",
    "execution_start": 1629465839712,
    "execution_millis": 14,
    "deepnote_cell_type": "code"
   },
   "source": "data + ones",
   "execution_count": null,
   "outputs": [
    {
     "output_type": "execute_result",
     "execution_count": 61,
     "data": {
      "text/plain": "array([2., 3., 4.])"
     },
     "metadata": {}
    }
   ]
  },
  {
   "cell_type": "markdown",
   "source": "Position wise operation is a wonderful abstraction that allows you to think about problems at a higher level.\n\nAnd it’s not only addition that we can do this way:\n\n<center><img src=\"http://jalammar.github.io/images/numpy/numpy-array-subtract-multiply-divide.png\" width=\"800\" height=\"100\"></center>\n\nThere are often cases when we want to carry out an operation between an array and a single number (we can also call this an operation between a vector and a scalar). Say, for example, our array represents distance in miles, and we want to convert it to kilometers. We simply say  : \n",
   "metadata": {
    "tags": [],
    "cell_id": "00173-3a9d33f6-c80f-406c-a3f7-1eaf697af437",
    "deepnote_cell_type": "markdown"
   }
  },
  {
   "cell_type": "code",
   "metadata": {
    "tags": [],
    "cell_id": "00174-ceb30db9-0c42-44ad-9d86-6ca4262ec99c",
    "deepnote_to_be_reexecuted": false,
    "source_hash": "22c8dbfc",
    "execution_start": 1629467454273,
    "execution_millis": 11,
    "deepnote_cell_type": "code"
   },
   "source": "data * 1.6",
   "execution_count": null,
   "outputs": [
    {
     "output_type": "execute_result",
     "execution_count": 62,
     "data": {
      "text/plain": "array([1.6, 3.2, 4.8])"
     },
     "metadata": {}
    }
   ]
  },
  {
   "cell_type": "markdown",
   "source": "\n<center><img src=\"http://jalammar.github.io/images/numpy/numpy-array-broadcast.png\" width=\"800\" height=\"100\"></center>\n\nSee how NumPy understood that operation to mean that the multiplication should happen with each cell? That concept is called **broadcasting**, and it’s very useful.",
   "metadata": {
    "tags": [],
    "cell_id": "00175-ad562755-f572-4197-999b-2ee3454a921a",
    "deepnote_cell_type": "markdown"
   }
  },
  {
   "cell_type": "markdown",
   "source": "### *3.1.3* Indexing",
   "metadata": {
    "tags": [],
    "cell_id": "00174-8a04bfde-d4ec-4af5-9b2f-79000887b9c9",
    "deepnote_cell_type": "markdown"
   }
  },
  {
   "cell_type": "markdown",
   "source": "We can index and slice NumPy arrays in all the ways we can slice python lists:\n\n<center><img src=\"http://jalammar.github.io/images/numpy/numpy-array-slice.png\" width=\"800\" height=\"200\"></center>",
   "metadata": {
    "tags": [],
    "cell_id": "00175-b3c4b299-936c-4685-adbf-80b264894f66",
    "deepnote_cell_type": "markdown"
   }
  },
  {
   "cell_type": "markdown",
   "source": "### *3.1.4* Aggregation",
   "metadata": {
    "tags": [],
    "cell_id": "00176-27931b85-81a7-4f2e-9385-6f030bc5b6a0",
    "deepnote_cell_type": "markdown"
   }
  },
  {
   "cell_type": "markdown",
   "source": "Additional benefits NumPy gives us are aggregation functions:\n\n<center><img src=\"http://jalammar.github.io/images/numpy/numpy-array-aggregation.png\" width=\"800\" height=\"150\"></center>\n\nIn addition to `min`, `max`, and `sum`, you get all the greats like `mean` to get the average, `prod` to get the result of multiplying all the elements together, `std` to get standard deviation, and plenty of others.",
   "metadata": {
    "tags": [],
    "cell_id": "00177-d9d5dd4f-4f17-45c3-a327-f19e5981bbf2",
    "deepnote_cell_type": "markdown"
   }
  },
  {
   "cell_type": "markdown",
   "source": "### *3.1.5* Creating nD Arrays",
   "metadata": {
    "tags": [],
    "cell_id": "00180-a74a8150-28e3-47bf-a49e-d14b6066acc1",
    "deepnote_cell_type": "markdown"
   }
  },
  {
   "cell_type": "code",
   "metadata": {
    "tags": [],
    "cell_id": "00181-4ebb0cd5-2b19-45b7-a9e7-6f41424615c2",
    "deepnote_to_be_reexecuted": false,
    "source_hash": "6f837b9b",
    "execution_start": 1629468943368,
    "execution_millis": 24,
    "deepnote_cell_type": "code"
   },
   "source": "arr_2D0 = np.array([[1,2],[3,4]])\narr_2D1 = np.array([[1,2, 3],[4, 5, 6], [7,8,9]])\narr_2D2 = np.array([[1,2, 3],[4, 5, 6], [7,8,9], [10,11,12]])\narr_3D = np.array([[[1,2, 3],[4, 5, 6]], [[7,8,9], [10,11,12]]])\nprint(arr_2D0, arr_2D1, arr_2D2, arr_3D, sep=\"\\n ___ \\n\")",
   "execution_count": null,
   "outputs": [
    {
     "name": "stdout",
     "text": "[[1 2]\n [3 4]]\n ___ \n[[1 2 3]\n [4 5 6]\n [7 8 9]]\n ___ \n[[ 1  2  3]\n [ 4  5  6]\n [ 7  8  9]\n [10 11 12]]\n ___ \n[[[ 1  2  3]\n  [ 4  5  6]]\n\n [[ 7  8  9]\n  [10 11 12]]]\n",
     "output_type": "stream"
    }
   ]
  },
  {
   "cell_type": "markdown",
   "source": "<center><img src=\"http://jalammar.github.io/images/numpy/numpy-array-create-2d.png\" width=\"500\" height=\"100\"></center>\n\n<center><img src=\"http://jalammar.github.io/images/numpy/numpy-3d-array.png\" width=\"500\" height=\"200\"></center>\n\nWe can also use the same methods we mentioned above (`ones()`, `zeros()`, and `random.random()`) as long as we give them a tuple describing the dimensions of the matrix we are creating:\n\n<center><img src=\"http://jalammar.github.io/images/numpy/numpy-matrix-ones-zeros-random.png\" width=\"800\" height=\"150\"></center>\n\n<center><img src=\"http://jalammar.github.io/images/numpy/numpy-3d-array-creation.png\" width=\"800\" height=\"200\"></center>",
   "metadata": {
    "tags": [],
    "cell_id": "00182-4b8805e1-035c-4ee3-8d66-aa075b61d39a",
    "deepnote_cell_type": "markdown"
   }
  },
  {
   "cell_type": "markdown",
   "source": "### *3.1.6* nD Arithmetic",
   "metadata": {
    "tags": [],
    "cell_id": "00183-f29b3bd6-47c1-4c9f-817d-499a294155f4",
    "deepnote_cell_type": "markdown"
   }
  },
  {
   "cell_type": "markdown",
   "source": "We can add and multiply matrices using arithmetic operators (`+-*/`) if the two matrices are the same size. NumPy handles those as position-wise operations:\n\n<center><img src=\"http://jalammar.github.io/images/numpy/numpy-matrix-arithmetic.png\" width=\"700\" height=\"150\"></center>\n\nWe can get away with doing these arithmetic operations on matrices of different size only if the different dimension is one (e.g. the matrix has only one column or one row), in which case NumPy uses its broadcast rules for that operation:\n\n<center><img src=\"http://jalammar.github.io/images/numpy/numpy-matrix-broadcast.png\" width=\"800\" height=\"150\"></center>",
   "metadata": {
    "tags": [],
    "cell_id": "00184-0f3797a3-dec5-449d-9af8-3d3322de1afd",
    "deepnote_cell_type": "markdown"
   }
  },
  {
   "cell_type": "markdown",
   "source": "Try these :\n\n<table>\n    <thead>\n        <tr>\n            <th>Formule</th>\n            <th>Result</th>\n        </tr>\n    </thead>\n    <tbody>\n        <tr>\n            <td>arr_2D0 + 1</td>\n            <td>?</td>\n        </tr>\n        <tr>\n            <td>arr_2D1 + 1</td>\n            <td>?</td>\n        </tr>\n        <tr>\n            <td>arr_2D2 + 1</td>\n            <td>?</td>\n        </tr>\n        <tr>\n            <td>arr_2D0 + np.array([1, 1])</td>\n            <td>?</td>\n        </tr>\n        <tr>\n            <td>arr_2D0 + np.array([1], [1])</td>\n            <td>?</td>\n        </tr>\n        <tr>\n            <td>arr_2D2 + np.array([1,1,1])</td>\n            <td>?</td>\n        </tr>\n        <tr>\n            <td>arr_2D2 + np.array([1,1,1,1])</td>\n            <td>?</td>\n        </tr>\n        <tr>\n            <td>arr_2D2 + np.array([[1],[1],[1],[1]])</td>\n            <td>?</td>\n        </tr>\n        <tr>\n            <td>arr_3D + 1</td>\n            <td>?</td>\n        </tr>\n        <tr>\n            <td>arr_3D + np.array([[1,0,1], [0,1,0]])</td>\n            <td>?</td>\n        </tr>\n    </tbody>\n</table>",
   "metadata": {
    "tags": [],
    "cell_id": "00185-76eb550c-df5e-4f18-9afe-ea26651d696b",
    "deepnote_cell_type": "markdown"
   }
  },
  {
   "cell_type": "code",
   "metadata": {
    "tags": [],
    "cell_id": "00186-ef6509fb-3c5c-44bd-bb63-69bc8b370261",
    "deepnote_to_be_reexecuted": false,
    "source_hash": "d6457e12",
    "execution_start": 1629468751779,
    "execution_millis": 10,
    "deepnote_cell_type": "code"
   },
   "source": "arr_3D + np.array([[1,0,1], [0,1,0]])",
   "execution_count": null,
   "outputs": [
    {
     "output_type": "execute_result",
     "execution_count": 79,
     "data": {
      "text/plain": "array([[[ 2,  2,  4],\n        [ 4,  6,  6]],\n\n       [[ 8,  8, 10],\n        [10, 12, 12]]])"
     },
     "metadata": {}
    }
   ]
  },
  {
   "cell_type": "markdown",
   "source": "### *3.1.7* Your turn\n",
   "metadata": {
    "tags": [],
    "cell_id": "00189-ae730bc3-85ca-4239-bec0-0bed0161f88f",
    "deepnote_cell_type": "markdown"
   }
  },
  {
   "cell_type": "markdown",
   "source": "<font color='red'>**Exercize :** </font>\nFor 1D and 2D numpy arrays, create a function where you give 2 arrays with the same dimensions as inputs, and you return a list containing the positions where the arrays have identical elements.If the numpy arrays are 1D, you will return a list of index. If the numpy arrays are 2D, it will return a list of tuples where the elements are the positions.",
   "metadata": {
    "tags": [],
    "cell_id": "00190-8a98647e-a2bf-49d3-98b6-de3181bc0774",
    "deepnote_cell_type": "markdown"
   }
  },
  {
   "cell_type": "code",
   "metadata": {
    "tags": [],
    "cell_id": "00191-ed4ebef0-9df0-4852-93db-d3b34553f740",
    "deepnote_cell_type": "code"
   },
   "source": "",
   "execution_count": null,
   "outputs": []
  },
  {
   "cell_type": "markdown",
   "source": "### *3.1.8* Data Representation",
   "metadata": {
    "tags": [],
    "cell_id": "00187-318e87e6-3e03-415a-8e0e-165e24d42496",
    "deepnote_cell_type": "markdown"
   }
  },
  {
   "cell_type": "markdown",
   "source": "If you are wondering why we are playing with numpy arrays, you will see here what they can be used for.\nThink of all the data types you’ll need to crunch and build models around (spreadsheets, images, audio…etc). So many of them are perfectly suited for representation in an n-dimensional array:\n\n**Tables and Spreadsheets** \n\nA spreadsheet or a table of values is a two dimensional matrix. Each sheet in a spreadsheet can be its own variable. The most popular abstraction in python for those is the pandas dataframe, which actually uses NumPy and builds on top of it.\n\n<center><img src=\"http://jalammar.github.io/images/pandas-intro/0%20excel-to-pandas.png\" width=\"800\" height=\"300\"></center>\n\n**Audio and Timeseries** \n\nAn audio file is a one-dimensional array of samples. Each sample is a number representing a tiny chunk of the audio signal. CD-quality audio may have 44,100 samples per second and each sample is an integer between -32767 and 32768. Meaning if you have a ten-seconds WAVE file of CD-quality, you can load it in a NumPy array with length 10 * 44,100 = 441,000 samples. Want to extract the first second of audio? simply load the file into a NumPy array that we’ll call audio, and get audio[:44100].\n\n<center><img src=\"http://jalammar.github.io/images/numpy/numpy-audio.png\" width=\"800\" height=\"250\"></center>\n\nThe same goes for time-series data (for example, the price of a stock over time).\n\n**Images**\n\nAn image is a matrix of pixels of size (height x width).\n\nIf the image is black and white (a.k.a. grayscale), each pixel can be represented by a single number (commonly between 0 (black) and 255 (white)). Want to crop the top left 10 x 10 pixel part of the image? Just tell NumPy to get you image[:10,:10].\n\nHere’s a look at a slice of an image file:\n\n<center><img src=\"http://jalammar.github.io/images/numpy/numpy-grayscale-image.png\" width=\"800\" height=\"300\"></center>\n\nIf the image is colored, then each pixel is represented by three numbers - a value for each of red, green, and blue. In that case we need a 3rd dimension (because each cell can only contain one number). So a colored image is represented by an ndarray of dimensions: (height x width x 3).\n\n<center><img src=\"http://jalammar.github.io/images/numpy/numpy-color-image.png\" width=\"800\" height=\"350\"></center>",
   "metadata": {
    "tags": [],
    "cell_id": "00188-672e636e-88a9-4a93-8347-45e4c1c58e50",
    "deepnote_cell_type": "markdown"
   }
  },
  {
   "cell_type": "markdown",
   "source": "## *3.2* Pandas",
   "metadata": {
    "id": "Gkb17neLqhTv",
    "cell_id": "00099-aa5e643b-11d3-4846-b2a9-e6b39b872224",
    "deepnote_cell_type": "markdown"
   }
  },
  {
   "cell_type": "markdown",
   "source": "You'll learn all about `pandas`, the most popular Python library for data analysis.\n\nIn this tutorial, you will learn how to create your own data, and on the next class, you will work on real data.",
   "metadata": {
    "tags": [],
    "cell_id": "00190-40ba0ab8-415f-44e9-b07c-6f4d4ffea707",
    "deepnote_cell_type": "markdown"
   }
  },
  {
   "cell_type": "markdown",
   "source": "### *3.2.0* Using pandas",
   "metadata": {
    "tags": [],
    "cell_id": "00191-08109abd-a693-4973-ab58-9ea282518b7a",
    "deepnote_cell_type": "markdown"
   }
  },
  {
   "cell_type": "markdown",
   "source": "To use pandas, you'll typically start with the following line of code.",
   "metadata": {
    "tags": [],
    "cell_id": "00192-d397237d-d0c1-437a-8f37-1416f54a235b",
    "deepnote_cell_type": "markdown"
   }
  },
  {
   "cell_type": "code",
   "metadata": {
    "tags": [],
    "cell_id": "00190-5b25f75b-8f8f-43e3-ac3d-4142f6c56642",
    "deepnote_to_be_reexecuted": false,
    "source_hash": "9b82ee11",
    "execution_start": 1629470520845,
    "execution_millis": 0,
    "deepnote_cell_type": "code"
   },
   "source": "import pandas as pd",
   "execution_count": null,
   "outputs": []
  },
  {
   "cell_type": "markdown",
   "source": "### *3.2.1* Creating a pandas DataFrame",
   "metadata": {
    "tags": [],
    "cell_id": "00191-fdd05572-30fb-4819-8992-ba70fe918dfd",
    "deepnote_cell_type": "markdown"
   }
  },
  {
   "cell_type": "markdown",
   "source": "There are two core objects in pandas: the `DataFrame` and the `Series`.\nDataFrame\n\nA `DataFrame` is a table. It contains an array of individual entries, each of which has a certain value. Each entry corresponds to a row (or record) and a column.\n\nFor example, consider the following simple `DataFrame`:",
   "metadata": {
    "tags": [],
    "cell_id": "00191-e364905c-52e6-4c0e-b409-e9dfc1da4477",
    "deepnote_cell_type": "markdown"
   }
  },
  {
   "cell_type": "code",
   "metadata": {
    "tags": [],
    "cell_id": "00196-bb2d6560-7487-4868-9778-331f0b767673",
    "deepnote_to_be_reexecuted": false,
    "source_hash": "1513b4c",
    "execution_start": 1629470522139,
    "execution_millis": 28,
    "deepnote_cell_type": "code"
   },
   "source": "pd.DataFrame({'Yes': [50, 21], 'No': [131, 2]})",
   "execution_count": null,
   "outputs": [
    {
     "output_type": "execute_result",
     "execution_count": 88,
     "data": {
      "application/vnd.deepnote.dataframe.v2+json": {
       "row_count": 2,
       "column_count": 2,
       "columns": [
        {
         "name": "Yes",
         "dtype": "int64",
         "stats": {
          "unique_count": 2,
          "nan_count": 0,
          "min": "21",
          "max": "50",
          "histogram": [
           {
            "bin_start": 21,
            "bin_end": 23.9,
            "count": 1
           },
           {
            "bin_start": 23.9,
            "bin_end": 26.8,
            "count": 0
           },
           {
            "bin_start": 26.8,
            "bin_end": 29.7,
            "count": 0
           },
           {
            "bin_start": 29.7,
            "bin_end": 32.6,
            "count": 0
           },
           {
            "bin_start": 32.6,
            "bin_end": 35.5,
            "count": 0
           },
           {
            "bin_start": 35.5,
            "bin_end": 38.4,
            "count": 0
           },
           {
            "bin_start": 38.4,
            "bin_end": 41.3,
            "count": 0
           },
           {
            "bin_start": 41.3,
            "bin_end": 44.2,
            "count": 0
           },
           {
            "bin_start": 44.2,
            "bin_end": 47.099999999999994,
            "count": 0
           },
           {
            "bin_start": 47.099999999999994,
            "bin_end": 50,
            "count": 1
           }
          ]
         }
        },
        {
         "name": "No",
         "dtype": "int64",
         "stats": {
          "unique_count": 2,
          "nan_count": 0,
          "min": "2",
          "max": "131",
          "histogram": [
           {
            "bin_start": 2,
            "bin_end": 14.9,
            "count": 1
           },
           {
            "bin_start": 14.9,
            "bin_end": 27.8,
            "count": 0
           },
           {
            "bin_start": 27.8,
            "bin_end": 40.7,
            "count": 0
           },
           {
            "bin_start": 40.7,
            "bin_end": 53.6,
            "count": 0
           },
           {
            "bin_start": 53.6,
            "bin_end": 66.5,
            "count": 0
           },
           {
            "bin_start": 66.5,
            "bin_end": 79.4,
            "count": 0
           },
           {
            "bin_start": 79.4,
            "bin_end": 92.3,
            "count": 0
           },
           {
            "bin_start": 92.3,
            "bin_end": 105.2,
            "count": 0
           },
           {
            "bin_start": 105.2,
            "bin_end": 118.10000000000001,
            "count": 0
           },
           {
            "bin_start": 118.10000000000001,
            "bin_end": 131,
            "count": 1
           }
          ]
         }
        },
        {
         "name": "_deepnote_index_column",
         "dtype": "int64"
        }
       ],
       "rows_top": [
        {
         "Yes": 50,
         "No": 131,
         "_deepnote_index_column": 0
        },
        {
         "Yes": 21,
         "No": 2,
         "_deepnote_index_column": 1
        }
       ],
       "rows_bottom": null
      },
      "text/plain": "   Yes   No\n0   50  131\n1   21    2",
      "text/html": "<div>\n<style scoped>\n    .dataframe tbody tr th:only-of-type {\n        vertical-align: middle;\n    }\n\n    .dataframe tbody tr th {\n        vertical-align: top;\n    }\n\n    .dataframe thead th {\n        text-align: right;\n    }\n</style>\n<table border=\"1\" class=\"dataframe\">\n  <thead>\n    <tr style=\"text-align: right;\">\n      <th></th>\n      <th>Yes</th>\n      <th>No</th>\n    </tr>\n  </thead>\n  <tbody>\n    <tr>\n      <th>0</th>\n      <td>50</td>\n      <td>131</td>\n    </tr>\n    <tr>\n      <th>1</th>\n      <td>21</td>\n      <td>2</td>\n    </tr>\n  </tbody>\n</table>\n</div>"
     },
     "metadata": {}
    }
   ]
  },
  {
   "cell_type": "markdown",
   "source": "In this example, the \"0, No\" entry has the value of 131. The \"0, Yes\" entry has a value of 50, and so on.\n\n`DataFrame` entries are not limited to integers. For instance, here's a `DataFrame` whose values are strings:\n",
   "metadata": {
    "tags": [],
    "cell_id": "00198-c434c62d-d89c-4ec9-a16c-0dadc3b4b059",
    "deepnote_cell_type": "markdown"
   }
  },
  {
   "cell_type": "code",
   "metadata": {
    "tags": [],
    "cell_id": "00199-d515ba30-8c50-4a43-82fe-947beafdbc2c",
    "deepnote_to_be_reexecuted": false,
    "source_hash": "a4db4043",
    "execution_start": 1629474465927,
    "execution_millis": 25,
    "deepnote_cell_type": "code"
   },
   "source": "df_bobAndSueAndBot = pd.DataFrame({'Bob': ['I liked it.', 'It was awful.', 'Meh'], 'Sue': ['Pretty good.', 'Bland.', 'Overated'], 'Bot': [1, 0, 0.5]})\ndf_bobAndSueAndBot",
   "execution_count": null,
   "outputs": [
    {
     "output_type": "execute_result",
     "execution_count": 111,
     "data": {
      "application/vnd.deepnote.dataframe.v2+json": {
       "row_count": 3,
       "column_count": 3,
       "columns": [
        {
         "name": "Bob",
         "dtype": "object",
         "stats": {
          "unique_count": 3,
          "nan_count": 0,
          "categories": [
           {
            "name": "I liked it.",
            "count": 1
           },
           {
            "name": "It was awful.",
            "count": 1
           },
           {
            "name": "Meh",
            "count": 1
           }
          ]
         }
        },
        {
         "name": "Sue",
         "dtype": "object",
         "stats": {
          "unique_count": 3,
          "nan_count": 0,
          "categories": [
           {
            "name": "Pretty good.",
            "count": 1
           },
           {
            "name": "Bland.",
            "count": 1
           },
           {
            "name": "Overated",
            "count": 1
           }
          ]
         }
        },
        {
         "name": "Bot",
         "dtype": "float64",
         "stats": {
          "unique_count": 3,
          "nan_count": 0,
          "min": "0.0",
          "max": "1.0",
          "histogram": [
           {
            "bin_start": 0,
            "bin_end": 0.1,
            "count": 1
           },
           {
            "bin_start": 0.1,
            "bin_end": 0.2,
            "count": 0
           },
           {
            "bin_start": 0.2,
            "bin_end": 0.30000000000000004,
            "count": 0
           },
           {
            "bin_start": 0.30000000000000004,
            "bin_end": 0.4,
            "count": 0
           },
           {
            "bin_start": 0.4,
            "bin_end": 0.5,
            "count": 0
           },
           {
            "bin_start": 0.5,
            "bin_end": 0.6000000000000001,
            "count": 1
           },
           {
            "bin_start": 0.6000000000000001,
            "bin_end": 0.7000000000000001,
            "count": 0
           },
           {
            "bin_start": 0.7000000000000001,
            "bin_end": 0.8,
            "count": 0
           },
           {
            "bin_start": 0.8,
            "bin_end": 0.9,
            "count": 0
           },
           {
            "bin_start": 0.9,
            "bin_end": 1,
            "count": 1
           }
          ]
         }
        },
        {
         "name": "_deepnote_index_column",
         "dtype": "int64"
        }
       ],
       "rows_top": [
        {
         "Bob": "I liked it.",
         "Sue": "Pretty good.",
         "Bot": 1,
         "_deepnote_index_column": 0
        },
        {
         "Bob": "It was awful.",
         "Sue": "Bland.",
         "Bot": 0,
         "_deepnote_index_column": 1
        },
        {
         "Bob": "Meh",
         "Sue": "Overated",
         "Bot": 0.5,
         "_deepnote_index_column": 2
        }
       ],
       "rows_bottom": null
      },
      "text/plain": "             Bob           Sue  Bot\n0    I liked it.  Pretty good.  1.0\n1  It was awful.        Bland.  0.0\n2            Meh      Overated  0.5",
      "text/html": "<div>\n<style scoped>\n    .dataframe tbody tr th:only-of-type {\n        vertical-align: middle;\n    }\n\n    .dataframe tbody tr th {\n        vertical-align: top;\n    }\n\n    .dataframe thead th {\n        text-align: right;\n    }\n</style>\n<table border=\"1\" class=\"dataframe\">\n  <thead>\n    <tr style=\"text-align: right;\">\n      <th></th>\n      <th>Bob</th>\n      <th>Sue</th>\n      <th>Bot</th>\n    </tr>\n  </thead>\n  <tbody>\n    <tr>\n      <th>0</th>\n      <td>I liked it.</td>\n      <td>Pretty good.</td>\n      <td>1.0</td>\n    </tr>\n    <tr>\n      <th>1</th>\n      <td>It was awful.</td>\n      <td>Bland.</td>\n      <td>0.0</td>\n    </tr>\n    <tr>\n      <th>2</th>\n      <td>Meh</td>\n      <td>Overated</td>\n      <td>0.5</td>\n    </tr>\n  </tbody>\n</table>\n</div>"
     },
     "metadata": {}
    }
   ]
  },
  {
   "cell_type": "markdown",
   "source": "We are using the `pd.DataFrame()` constructor to generate these DataFrame objects. The syntax for declaring a new one is a dictionary whose keys are the column names (Bob and Sue in this example), and whose values are a list of entries. This is the standard way of constructing a new DataFrame, and the one you are most likely to encounter.\n\nThe dictionary-list constructor assigns values to the column labels, but just uses an ascending count from 0 (0, 1, 2, 3, ...) for the row labels. Sometimes this is OK, but oftentimes we will want to assign these labels ourselves.\n\nThe list of row labels used in a DataFrame is known as an `Index`. We can assign values to it by using an `index` parameter in our constructor:\n",
   "metadata": {
    "tags": [],
    "cell_id": "00201-9e690001-f0b9-4082-8061-f10203bab4fc",
    "deepnote_cell_type": "markdown"
   }
  },
  {
   "cell_type": "code",
   "metadata": {
    "tags": [],
    "cell_id": "00202-692d498f-806b-478a-b03a-2219f46505d1",
    "deepnote_to_be_reexecuted": false,
    "source_hash": "f96b4731",
    "execution_start": 1629470650871,
    "execution_millis": 9,
    "deepnote_cell_type": "code"
   },
   "source": "pd.DataFrame({'Bob': ['I liked it.', 'It was awful.', 'Meh'], \n              'Sue': ['Pretty good.', 'Bland.', 'Overated']},\n             index=['Product A', 'Product B'])",
   "execution_count": null,
   "outputs": [
    {
     "output_type": "execute_result",
     "execution_count": 90,
     "data": {
      "application/vnd.deepnote.dataframe.v2+json": {
       "row_count": 2,
       "column_count": 2,
       "columns": [
        {
         "name": "Bob",
         "dtype": "object",
         "stats": {
          "unique_count": 2,
          "nan_count": 0,
          "categories": [
           {
            "name": "I liked it.",
            "count": 1
           },
           {
            "name": "It was awful.",
            "count": 1
           }
          ]
         }
        },
        {
         "name": "Sue",
         "dtype": "object",
         "stats": {
          "unique_count": 2,
          "nan_count": 0,
          "categories": [
           {
            "name": "Pretty good.",
            "count": 1
           },
           {
            "name": "Bland.",
            "count": 1
           }
          ]
         }
        },
        {
         "name": "_deepnote_index_column",
         "dtype": "object"
        }
       ],
       "rows_top": [
        {
         "Bob": "I liked it.",
         "Sue": "Pretty good.",
         "_deepnote_index_column": "Product A"
        },
        {
         "Bob": "It was awful.",
         "Sue": "Bland.",
         "_deepnote_index_column": "Product B"
        }
       ],
       "rows_bottom": null
      },
      "text/plain": "                     Bob           Sue\nProduct A    I liked it.  Pretty good.\nProduct B  It was awful.        Bland.",
      "text/html": "<div>\n<style scoped>\n    .dataframe tbody tr th:only-of-type {\n        vertical-align: middle;\n    }\n\n    .dataframe tbody tr th {\n        vertical-align: top;\n    }\n\n    .dataframe thead th {\n        text-align: right;\n    }\n</style>\n<table border=\"1\" class=\"dataframe\">\n  <thead>\n    <tr style=\"text-align: right;\">\n      <th></th>\n      <th>Bob</th>\n      <th>Sue</th>\n    </tr>\n  </thead>\n  <tbody>\n    <tr>\n      <th>Product A</th>\n      <td>I liked it.</td>\n      <td>Pretty good.</td>\n    </tr>\n    <tr>\n      <th>Product B</th>\n      <td>It was awful.</td>\n      <td>Bland.</td>\n    </tr>\n  </tbody>\n</table>\n</div>"
     },
     "metadata": {}
    }
   ]
  },
  {
   "cell_type": "markdown",
   "source": "### *3.2.2* Creating a pandas Serie",
   "metadata": {
    "tags": [],
    "cell_id": "00204-97044f79-a312-48a4-9b98-3421b16d30ac",
    "deepnote_cell_type": "markdown"
   }
  },
  {
   "cell_type": "markdown",
   "source": "A `Series`, by contrast, is a sequence of data values. If a `DataFrame` is a table, a `Series` is a list. And in fact you can create one with nothing more than a list:",
   "metadata": {
    "tags": [],
    "cell_id": "00205-dada2fa1-bf93-444b-ad30-0fcee2f383e9",
    "deepnote_cell_type": "markdown"
   }
  },
  {
   "cell_type": "code",
   "metadata": {
    "tags": [],
    "cell_id": "00205-7f8939c4-017a-44e0-8209-942752a48fa2",
    "deepnote_to_be_reexecuted": false,
    "source_hash": "2c4af302",
    "execution_start": 1629470729131,
    "execution_millis": 10,
    "deepnote_cell_type": "code"
   },
   "source": "pd.Series([1, 2, 3, 4, 5])",
   "execution_count": null,
   "outputs": [
    {
     "output_type": "execute_result",
     "execution_count": 91,
     "data": {
      "text/plain": "0    1\n1    2\n2    3\n3    4\n4    5\ndtype: int64"
     },
     "metadata": {}
    }
   ]
  },
  {
   "cell_type": "markdown",
   "source": "A `Series` is, in essence, a single column of a `DataFrame`. So you can assign column values to the `Series` the same way as before, using an index parameter. However, a Series does not have a column name, it only has one overall name:",
   "metadata": {
    "tags": [],
    "cell_id": "00205-6da58e2c-e9ad-4f1f-af9b-857c332558e5",
    "deepnote_cell_type": "markdown"
   }
  },
  {
   "cell_type": "code",
   "metadata": {
    "tags": [],
    "cell_id": "00206-7ee0d2e3-66f9-40e6-95ea-f408dc5d663b",
    "deepnote_to_be_reexecuted": false,
    "source_hash": "7e2aa476",
    "execution_start": 1629470788791,
    "execution_millis": 9,
    "deepnote_cell_type": "code"
   },
   "source": "pd.Series([30, 35, 40], index=['2015 Sales', '2016 Sales', '2017 Sales'], name='Product A')",
   "execution_count": null,
   "outputs": [
    {
     "output_type": "execute_result",
     "execution_count": 92,
     "data": {
      "text/plain": "2015 Sales    30\n2016 Sales    35\n2017 Sales    40\nName: Product A, dtype: int64"
     },
     "metadata": {}
    }
   ]
  },
  {
   "cell_type": "markdown",
   "source": "The `Series` and the `DataFrame` are intimately related. It's helpful to think of a `DataFrame` as actually being just a bunch of `Series` \"glued together\". We'll see more of this in the next section of this tutorial.",
   "metadata": {
    "tags": [],
    "cell_id": "00207-b3468304-e036-4180-978f-75e8e6f504c3",
    "deepnote_cell_type": "markdown"
   }
  },
  {
   "cell_type": "markdown",
   "source": "### *3.3.3* Accessing a DataFrame column",
   "metadata": {
    "tags": [],
    "cell_id": "00207-24190f9b-71fb-4b4c-ad36-80803ed97912",
    "deepnote_cell_type": "markdown"
   }
  },
  {
   "cell_type": "markdown",
   "source": "In Python, we can access the property of an object by accessing it as an attribute. A `book` object, for example, might have a `title` property, which we can access by calling `book.title`. Columns in a pandas DataFrame work in much the same way.\n\nHence to access the `Bob` property of `df_bobAndSueAndBot` we can use:\n",
   "metadata": {
    "tags": [],
    "cell_id": "00208-77928435-1385-4014-8ac0-61582e8a124a",
    "deepnote_cell_type": "markdown"
   }
  },
  {
   "cell_type": "code",
   "metadata": {
    "tags": [],
    "cell_id": "00206-1a9cac68-2a35-45c4-b4c2-7f826c8f9e61",
    "deepnote_to_be_reexecuted": false,
    "source_hash": "40c35279",
    "execution_start": 1629472706924,
    "execution_millis": 13,
    "deepnote_cell_type": "code"
   },
   "source": "df_bobAndSueAndBot.Bob",
   "execution_count": null,
   "outputs": [
    {
     "output_type": "execute_result",
     "execution_count": 97,
     "data": {
      "text/plain": "0      I liked it.\n1    It was awful.\nName: Bob, dtype: object"
     },
     "metadata": {}
    }
   ]
  },
  {
   "cell_type": "markdown",
   "source": "If we have a Python dictionary, we can access its values using the indexing ([]) operator. We can do the same with columns in a DataFrame:",
   "metadata": {
    "tags": [],
    "cell_id": "00210-0bf0b701-0efe-4868-aab2-760e61cecd96",
    "deepnote_cell_type": "markdown"
   }
  },
  {
   "cell_type": "code",
   "metadata": {
    "tags": [],
    "cell_id": "00208-e9e27dfa-c7fc-4a1f-acb5-40e630f6bb7a",
    "deepnote_to_be_reexecuted": false,
    "source_hash": "395ab519",
    "execution_start": 1629472744672,
    "execution_millis": 15,
    "deepnote_cell_type": "code"
   },
   "source": "df_bobAndSueAndBot['Bob']",
   "execution_count": null,
   "outputs": [
    {
     "output_type": "execute_result",
     "execution_count": 98,
     "data": {
      "text/plain": "0      I liked it.\n1    It was awful.\nName: Bob, dtype: object"
     },
     "metadata": {}
    }
   ]
  },
  {
   "cell_type": "markdown",
   "source": "These are the two ways of selecting a specific Series out of a DataFrame. Neither of them is more or less syntactically valid than the other, but the indexing operator `[]` does have the advantage that it can handle `column` names with reserved characters in them (e.g. if we had a `country providence` column, `reviews.country providence` wouldn't work).\n\nDoesn't a pandas Series look kind of like a fancy dictionary? It pretty much is, so it's no surprise that, to drill down to a single specific value, we need only use the indexing operator `[]` once more:\n",
   "metadata": {
    "tags": [],
    "cell_id": "00212-cedda2d2-bb93-4244-8b59-028a6fce7b3b",
    "deepnote_cell_type": "markdown"
   }
  },
  {
   "cell_type": "code",
   "metadata": {
    "tags": [],
    "cell_id": "00213-ab60a3f9-3176-47c4-bf35-bdadc4c94834",
    "deepnote_to_be_reexecuted": false,
    "source_hash": "d0babb6a",
    "execution_start": 1629472867879,
    "execution_millis": 10,
    "deepnote_cell_type": "code"
   },
   "source": "df_bobAndSueAndBot['Bob'][0]",
   "execution_count": null,
   "outputs": [
    {
     "output_type": "execute_result",
     "execution_count": 99,
     "data": {
      "text/plain": "'I liked it.'"
     },
     "metadata": {}
    }
   ]
  },
  {
   "cell_type": "markdown",
   "source": "### *3.3.4* Indexing in pandas",
   "metadata": {
    "tags": [],
    "cell_id": "00214-78965015-583a-48e9-a964-df70dc914231",
    "deepnote_cell_type": "markdown"
   }
  },
  {
   "cell_type": "markdown",
   "source": "Pandas indexing works in one of two paradigms. The first is **index-based selection**: selecting data based on its numerical position in the data. `iloc` follows this paradigm.\n\nTo select the first row of data in a DataFrame, we may use the following:",
   "metadata": {
    "tags": [],
    "cell_id": "00215-f4ec1e83-2abf-41c4-899c-2dced9828d87",
    "deepnote_cell_type": "markdown"
   }
  },
  {
   "cell_type": "code",
   "metadata": {
    "tags": [],
    "cell_id": "00212-8b380010-9af5-40c2-8f07-1649a14651d1",
    "deepnote_to_be_reexecuted": false,
    "source_hash": "78d2ba03",
    "execution_start": 1629472934755,
    "execution_millis": 11,
    "deepnote_cell_type": "code"
   },
   "source": "df_bobAndSueAndBot.iloc[0]",
   "execution_count": null,
   "outputs": [
    {
     "output_type": "execute_result",
     "execution_count": 100,
     "data": {
      "text/plain": "Bob     I liked it.\nSue    Pretty good.\nName: 0, dtype: object"
     },
     "metadata": {}
    }
   ]
  },
  {
   "cell_type": "markdown",
   "source": "Both `loc` and `iloc` are row-first, column-second. This is the opposite of what we do in native Python, which is column-first, row-second.\n\nThis means that it's marginally easier to retrieve rows, and marginally harder to get retrieve columns. To get a column with `iloc`, we can do the following:",
   "metadata": {
    "tags": [],
    "cell_id": "00215-679f912a-24aa-45eb-8fba-e4f0c80f36a5",
    "deepnote_cell_type": "markdown"
   }
  },
  {
   "cell_type": "code",
   "metadata": {
    "tags": [],
    "cell_id": "00218-9db81b55-45ea-41b8-bf40-f84e2e42b4cf",
    "deepnote_to_be_reexecuted": false,
    "source_hash": "66e9e9f7",
    "execution_start": 1629473019251,
    "execution_millis": 19,
    "deepnote_cell_type": "code"
   },
   "source": "df_bobAndSueAndBot.iloc[:, 0]",
   "execution_count": null,
   "outputs": [
    {
     "output_type": "execute_result",
     "execution_count": 101,
     "data": {
      "text/plain": "0      I liked it.\n1    It was awful.\nName: Bob, dtype: object"
     },
     "metadata": {}
    }
   ]
  },
  {
   "cell_type": "markdown",
   "source": "It's also possible to pass a list:",
   "metadata": {
    "tags": [],
    "cell_id": "00218-d0ebe99d-5b05-416c-a1e5-617c533c694e",
    "deepnote_cell_type": "markdown"
   }
  },
  {
   "cell_type": "code",
   "metadata": {
    "tags": [],
    "cell_id": "00220-10df2dbb-b9ae-4224-883b-854369dcc197",
    "deepnote_to_be_reexecuted": false,
    "source_hash": "d1d45e87",
    "execution_start": 1629473083935,
    "execution_millis": 19,
    "deepnote_cell_type": "code"
   },
   "source": "df_bobAndSueAndBot.iloc[[1], 0]",
   "execution_count": null,
   "outputs": [
    {
     "output_type": "execute_result",
     "execution_count": 105,
     "data": {
      "text/plain": "1    It was awful.\nName: Bob, dtype: object"
     },
     "metadata": {}
    }
   ]
  },
  {
   "cell_type": "markdown",
   "source": "### *3.3.5* Label-based selection",
   "metadata": {
    "tags": [],
    "cell_id": "00220-042674ea-a8f8-4c11-b5b6-b3de943a1a37",
    "deepnote_cell_type": "markdown"
   }
  },
  {
   "cell_type": "markdown",
   "source": "The second paradigm for attribute selection is the one followed by the `loc` operator: **label-based selection**. In this paradigm, it's the data index value, not its position, which matters.\n\nFor example, to get the first entry in `df_bobAndSueAndBot`, we would now do the following:",
   "metadata": {
    "tags": [],
    "cell_id": "00222-a1657173-0a6d-493c-bf0e-0dd4a0eefe8b",
    "deepnote_cell_type": "markdown"
   }
  },
  {
   "cell_type": "code",
   "metadata": {
    "tags": [],
    "cell_id": "00223-174f5c80-0aad-46c0-be4c-bf529ba19104",
    "deepnote_to_be_reexecuted": false,
    "source_hash": "c6acdc8d",
    "execution_start": 1629473204629,
    "execution_millis": 10,
    "deepnote_cell_type": "code"
   },
   "source": "df_bobAndSueAndBot.loc[0, 'Sue']",
   "execution_count": null,
   "outputs": [
    {
     "output_type": "execute_result",
     "execution_count": 106,
     "data": {
      "text/plain": "'Pretty good.'"
     },
     "metadata": {}
    }
   ]
  },
  {
   "cell_type": "markdown",
   "source": "`iloc` is conceptually simpler than `loc` because it ignores the dataset's indices. When we use `iloc` we treat the dataset like a big matrix (a list of lists), one that we have to index into by position. `loc`, by contrast, uses the information in the indices to do its work. Since your dataset usually has meaningful indices, it's usually easier to do things using loc instead. For example, here's one operation that's much easier using `loc`:",
   "metadata": {
    "tags": [],
    "cell_id": "00224-ffa195c9-2e4e-4f74-b7b0-1c1545f7ffe5",
    "deepnote_cell_type": "markdown"
   }
  },
  {
   "cell_type": "code",
   "metadata": {
    "tags": [],
    "cell_id": "00223-e0fa9c99-92b2-48d4-9d59-bcba139f776f",
    "deepnote_to_be_reexecuted": false,
    "source_hash": "e32ff11c",
    "execution_start": 1629473930235,
    "execution_millis": 11,
    "deepnote_cell_type": "code"
   },
   "source": "df_bobAndSueAndBot.loc[0, [\"Sue\",\"Bob\"]]",
   "execution_count": null,
   "outputs": [
    {
     "output_type": "execute_result",
     "execution_count": 107,
     "data": {
      "text/plain": "Sue    Pretty good.\nBob     I liked it.\nName: 0, dtype: object"
     },
     "metadata": {}
    }
   ]
  },
  {
   "cell_type": "markdown",
   "source": "**Choosing between `loc` and `iloc`**\n\nWhen choosing or transitioning between `loc` and `iloc`, there is one \"gotcha\" worth keeping in mind, which is that the two methods use slightly different indexing schemes.\n\n`iloc` uses the Python stdlib indexing scheme, where the first element of the range is included and the last one excluded. So 0:10 will select entries 0,...,9. `loc`, meanwhile, indexes inclusively. So 0:10 will select entries 0,...,10.\n\nWhy the change? Remember that `loc` can index any stdlib type: `strings`, for example. If we have a DataFrame with index values Apples, ..., Potatoes, ..., and we want to select \"all the alphabetical fruit choices between Apples and Potatoes\", then it's a lot more convenient to index df.loc['Apples':'Potatoes'] than it is to index something like df.loc['Apples', 'Potatoet'] (t coming after s in the alphabet).\n\nThis is particularly confusing when the DataFrame index is a simple numerical list, e.g. 0,...,1000. In this case df.iloc[0:1000] will return 1000 entries, while df.loc[0:1000] return 1001 of them! To get 1000 elements using loc, you will need to go one lower and ask for df.loc[0:999].\n\nOtherwise, the semantics of using `loc` are the same as those for `iloc`.\n",
   "metadata": {
    "tags": [],
    "cell_id": "00226-bba6ba7e-a5f7-4156-9e13-f717f06d6020",
    "deepnote_cell_type": "markdown"
   }
  },
  {
   "cell_type": "markdown",
   "source": "### *3.3.6* Conditional selection",
   "metadata": {
    "tags": [],
    "cell_id": "00227-cc4cc4d3-9ac1-486e-bdae-aaf7a723f879",
    "deepnote_cell_type": "markdown"
   }
  },
  {
   "cell_type": "markdown",
   "source": "So far we've been indexing various strides of data, using structural properties of the DataFrame itself. To do *interesting* things with the data, however, we often need to ask questions based on conditions.\n\nFor example, suppose that we're interested specifically in what Bot voted for on not.\n\nWe can start by checking the score given:",
   "metadata": {
    "tags": [],
    "cell_id": "00228-b5bc317a-1aee-4380-bf1e-2a61b196e6c0",
    "deepnote_cell_type": "markdown"
   }
  },
  {
   "cell_type": "code",
   "metadata": {
    "tags": [],
    "cell_id": "00226-7ea2b8f8-a3ad-4881-a3ec-45d14a754caa",
    "deepnote_to_be_reexecuted": false,
    "source_hash": "88af5e7b",
    "execution_start": 1629474470769,
    "execution_millis": 26,
    "deepnote_cell_type": "code"
   },
   "source": "df_bobAndSueAndBot.Bot > 0",
   "execution_count": null,
   "outputs": [
    {
     "output_type": "execute_result",
     "execution_count": 112,
     "data": {
      "text/plain": "0     True\n1    False\n2     True\nName: Bot, dtype: bool"
     },
     "metadata": {}
    }
   ]
  },
  {
   "cell_type": "markdown",
   "source": "This operation produced a `Series` of `True/False` booleans based on the note of Bot. This result can then be used inside of `loc` to select the relevant data:",
   "metadata": {
    "tags": [],
    "cell_id": "00230-1453a4a6-908e-4faf-9dcb-0ca750377f18",
    "deepnote_cell_type": "markdown"
   }
  },
  {
   "cell_type": "code",
   "metadata": {
    "tags": [],
    "cell_id": "00230-36ab6b39-f8bc-45f3-b89d-a5fe429ef4af",
    "deepnote_to_be_reexecuted": false,
    "source_hash": "375de6e0",
    "execution_start": 1629474536864,
    "execution_millis": 15,
    "deepnote_cell_type": "code"
   },
   "source": "df_bobAndSueAndBot.loc[df_bobAndSueAndBot.Bot > 0]",
   "execution_count": null,
   "outputs": [
    {
     "output_type": "execute_result",
     "execution_count": 113,
     "data": {
      "application/vnd.deepnote.dataframe.v2+json": {
       "row_count": 2,
       "column_count": 3,
       "columns": [
        {
         "name": "Bob",
         "dtype": "object",
         "stats": {
          "unique_count": 2,
          "nan_count": 0,
          "categories": [
           {
            "name": "I liked it.",
            "count": 1
           },
           {
            "name": "Meh",
            "count": 1
           }
          ]
         }
        },
        {
         "name": "Sue",
         "dtype": "object",
         "stats": {
          "unique_count": 2,
          "nan_count": 0,
          "categories": [
           {
            "name": "Pretty good.",
            "count": 1
           },
           {
            "name": "Overated",
            "count": 1
           }
          ]
         }
        },
        {
         "name": "Bot",
         "dtype": "float64",
         "stats": {
          "unique_count": 2,
          "nan_count": 0,
          "min": "0.5",
          "max": "1.0",
          "histogram": [
           {
            "bin_start": 0.5,
            "bin_end": 0.55,
            "count": 1
           },
           {
            "bin_start": 0.55,
            "bin_end": 0.6,
            "count": 0
           },
           {
            "bin_start": 0.6,
            "bin_end": 0.65,
            "count": 0
           },
           {
            "bin_start": 0.65,
            "bin_end": 0.7,
            "count": 0
           },
           {
            "bin_start": 0.7,
            "bin_end": 0.75,
            "count": 0
           },
           {
            "bin_start": 0.75,
            "bin_end": 0.8,
            "count": 0
           },
           {
            "bin_start": 0.8,
            "bin_end": 0.8500000000000001,
            "count": 0
           },
           {
            "bin_start": 0.8500000000000001,
            "bin_end": 0.9,
            "count": 0
           },
           {
            "bin_start": 0.9,
            "bin_end": 0.95,
            "count": 0
           },
           {
            "bin_start": 0.95,
            "bin_end": 1,
            "count": 1
           }
          ]
         }
        },
        {
         "name": "_deepnote_index_column",
         "dtype": "int64"
        }
       ],
       "rows_top": [
        {
         "Bob": "I liked it.",
         "Sue": "Pretty good.",
         "Bot": 1,
         "_deepnote_index_column": 0
        },
        {
         "Bob": "Meh",
         "Sue": "Overated",
         "Bot": 0.5,
         "_deepnote_index_column": 2
        }
       ],
       "rows_bottom": null
      },
      "text/plain": "           Bob           Sue  Bot\n0  I liked it.  Pretty good.  1.0\n2          Meh      Overated  0.5",
      "text/html": "<div>\n<style scoped>\n    .dataframe tbody tr th:only-of-type {\n        vertical-align: middle;\n    }\n\n    .dataframe tbody tr th {\n        vertical-align: top;\n    }\n\n    .dataframe thead th {\n        text-align: right;\n    }\n</style>\n<table border=\"1\" class=\"dataframe\">\n  <thead>\n    <tr style=\"text-align: right;\">\n      <th></th>\n      <th>Bob</th>\n      <th>Sue</th>\n      <th>Bot</th>\n    </tr>\n  </thead>\n  <tbody>\n    <tr>\n      <th>0</th>\n      <td>I liked it.</td>\n      <td>Pretty good.</td>\n      <td>1.0</td>\n    </tr>\n    <tr>\n      <th>2</th>\n      <td>Meh</td>\n      <td>Overated</td>\n      <td>0.5</td>\n    </tr>\n  </tbody>\n</table>\n</div>"
     },
     "metadata": {}
    }
   ]
  },
  {
   "cell_type": "markdown",
   "source": "We also wanted to know which ones Bob said \"I liked it.\".\n\nWe can use the ampersand (&) to bring the two questions together:",
   "metadata": {
    "tags": [],
    "cell_id": "00232-8685380a-d50f-496d-8f65-4aeec2eda16d",
    "deepnote_cell_type": "markdown"
   }
  },
  {
   "cell_type": "code",
   "metadata": {
    "tags": [],
    "cell_id": "00232-3219f7e3-99d7-4ada-b5e2-d27d42ff3189",
    "deepnote_to_be_reexecuted": false,
    "source_hash": "88d45226",
    "execution_start": 1629474648315,
    "execution_millis": 16,
    "deepnote_cell_type": "code"
   },
   "source": "df_bobAndSueAndBot.loc[(df_bobAndSueAndBot.Bot > 0) & (df_bobAndSueAndBot.Bob == \"I liked it.\")]",
   "execution_count": null,
   "outputs": [
    {
     "output_type": "execute_result",
     "execution_count": 114,
     "data": {
      "application/vnd.deepnote.dataframe.v2+json": {
       "row_count": 1,
       "column_count": 3,
       "columns": [
        {
         "name": "Bob",
         "dtype": "object",
         "stats": {
          "unique_count": 1,
          "nan_count": 0,
          "categories": [
           {
            "name": "I liked it.",
            "count": 1
           }
          ]
         }
        },
        {
         "name": "Sue",
         "dtype": "object",
         "stats": {
          "unique_count": 1,
          "nan_count": 0,
          "categories": [
           {
            "name": "Pretty good.",
            "count": 1
           }
          ]
         }
        },
        {
         "name": "Bot",
         "dtype": "float64",
         "stats": {
          "unique_count": 1,
          "nan_count": 0,
          "min": "1.0",
          "max": "1.0",
          "histogram": [
           {
            "bin_start": 0.5,
            "bin_end": 0.6,
            "count": 0
           },
           {
            "bin_start": 0.6,
            "bin_end": 0.7,
            "count": 0
           },
           {
            "bin_start": 0.7,
            "bin_end": 0.8,
            "count": 0
           },
           {
            "bin_start": 0.8,
            "bin_end": 0.9,
            "count": 0
           },
           {
            "bin_start": 0.9,
            "bin_end": 1,
            "count": 0
           },
           {
            "bin_start": 1,
            "bin_end": 1.1,
            "count": 1
           },
           {
            "bin_start": 1.1,
            "bin_end": 1.2000000000000002,
            "count": 0
           },
           {
            "bin_start": 1.2000000000000002,
            "bin_end": 1.3,
            "count": 0
           },
           {
            "bin_start": 1.3,
            "bin_end": 1.4,
            "count": 0
           },
           {
            "bin_start": 1.4,
            "bin_end": 1.5,
            "count": 0
           }
          ]
         }
        },
        {
         "name": "_deepnote_index_column",
         "dtype": "int64"
        }
       ],
       "rows_top": [
        {
         "Bob": "I liked it.",
         "Sue": "Pretty good.",
         "Bot": 1,
         "_deepnote_index_column": 0
        }
       ],
       "rows_bottom": null
      },
      "text/plain": "           Bob           Sue  Bot\n0  I liked it.  Pretty good.  1.0",
      "text/html": "<div>\n<style scoped>\n    .dataframe tbody tr th:only-of-type {\n        vertical-align: middle;\n    }\n\n    .dataframe tbody tr th {\n        vertical-align: top;\n    }\n\n    .dataframe thead th {\n        text-align: right;\n    }\n</style>\n<table border=\"1\" class=\"dataframe\">\n  <thead>\n    <tr style=\"text-align: right;\">\n      <th></th>\n      <th>Bob</th>\n      <th>Sue</th>\n      <th>Bot</th>\n    </tr>\n  </thead>\n  <tbody>\n    <tr>\n      <th>0</th>\n      <td>I liked it.</td>\n      <td>Pretty good.</td>\n      <td>1.0</td>\n    </tr>\n  </tbody>\n</table>\n</div>"
     },
     "metadata": {}
    }
   ]
  },
  {
   "cell_type": "markdown",
   "source": "### *3.3.7* Pandas built-in conditional selectors",
   "metadata": {
    "tags": [],
    "cell_id": "00234-b5dd6a73-caa2-461b-84d5-f0a9952d9816",
    "deepnote_cell_type": "markdown"
   }
  },
  {
   "cell_type": "markdown",
   "source": "Pandas comes with a few built-in conditional selectors, two of which we will highlight here.\n\nThe first is `isin`. `isin` is lets you select data whose value \"is in\" a list of values. \n\nThe second is `isnull` (and its companionq `notnull`, `isna`). These methods let you highlight values which are (or are not) empty (NaN). \n\nYou will use them in the next notebook",
   "metadata": {
    "tags": [],
    "cell_id": "00235-2d05def3-a890-404b-ae52-bac4a4efe751",
    "deepnote_cell_type": "markdown"
   }
  },
  {
   "cell_type": "markdown",
   "source": "### *3.3.8* Assigning data",
   "metadata": {
    "tags": [],
    "cell_id": "00236-76d9c3e6-5fb3-4b25-942c-48279869f43c",
    "deepnote_cell_type": "markdown"
   }
  },
  {
   "cell_type": "markdown",
   "source": "Going the other way, assigning data to a DataFrame is easy. You can assign either a constant value:",
   "metadata": {
    "tags": [],
    "cell_id": "00236-1ede1080-19d5-4c0b-baf6-182dd4341fcc",
    "deepnote_cell_type": "markdown"
   }
  },
  {
   "cell_type": "code",
   "metadata": {
    "tags": [],
    "cell_id": "00238-a0fbdca9-258d-449c-ba38-2ac5b412bb6d",
    "deepnote_to_be_reexecuted": false,
    "source_hash": "e2ca8a4d",
    "execution_start": 1629475322854,
    "execution_millis": 20,
    "deepnote_cell_type": "code"
   },
   "source": "df_bobAndSueAndBot['critic'] = 'Ok'\ndf_bobAndSueAndBot",
   "execution_count": null,
   "outputs": [
    {
     "output_type": "execute_result",
     "execution_count": 118,
     "data": {
      "application/vnd.deepnote.dataframe.v2+json": {
       "row_count": 3,
       "column_count": 5,
       "columns": [
        {
         "name": "Bob",
         "dtype": "object",
         "stats": {
          "unique_count": 3,
          "nan_count": 0,
          "categories": [
           {
            "name": "I liked it.",
            "count": 1
           },
           {
            "name": "It was awful.",
            "count": 1
           },
           {
            "name": "Meh",
            "count": 1
           }
          ]
         }
        },
        {
         "name": "Sue",
         "dtype": "object",
         "stats": {
          "unique_count": 3,
          "nan_count": 0,
          "categories": [
           {
            "name": "Pretty good.",
            "count": 1
           },
           {
            "name": "Bland.",
            "count": 1
           },
           {
            "name": "Overated",
            "count": 1
           }
          ]
         }
        },
        {
         "name": "Bot",
         "dtype": "float64",
         "stats": {
          "unique_count": 3,
          "nan_count": 0,
          "min": "0.0",
          "max": "1.0",
          "histogram": [
           {
            "bin_start": 0,
            "bin_end": 0.1,
            "count": 1
           },
           {
            "bin_start": 0.1,
            "bin_end": 0.2,
            "count": 0
           },
           {
            "bin_start": 0.2,
            "bin_end": 0.30000000000000004,
            "count": 0
           },
           {
            "bin_start": 0.30000000000000004,
            "bin_end": 0.4,
            "count": 0
           },
           {
            "bin_start": 0.4,
            "bin_end": 0.5,
            "count": 0
           },
           {
            "bin_start": 0.5,
            "bin_end": 0.6000000000000001,
            "count": 1
           },
           {
            "bin_start": 0.6000000000000001,
            "bin_end": 0.7000000000000001,
            "count": 0
           },
           {
            "bin_start": 0.7000000000000001,
            "bin_end": 0.8,
            "count": 0
           },
           {
            "bin_start": 0.8,
            "bin_end": 0.9,
            "count": 0
           },
           {
            "bin_start": 0.9,
            "bin_end": 1,
            "count": 1
           }
          ]
         }
        },
        {
         "name": "critic",
         "dtype": "object",
         "stats": {
          "unique_count": 1,
          "nan_count": 0,
          "categories": [
           {
            "name": "Ok",
            "count": 3
           }
          ]
         }
        },
        {
         "name": "index_backwards",
         "dtype": "int64",
         "stats": {
          "unique_count": 3,
          "nan_count": 0,
          "min": "1",
          "max": "3",
          "histogram": [
           {
            "bin_start": 1,
            "bin_end": 1.2,
            "count": 1
           },
           {
            "bin_start": 1.2,
            "bin_end": 1.4,
            "count": 0
           },
           {
            "bin_start": 1.4,
            "bin_end": 1.6,
            "count": 0
           },
           {
            "bin_start": 1.6,
            "bin_end": 1.8,
            "count": 0
           },
           {
            "bin_start": 1.8,
            "bin_end": 2,
            "count": 0
           },
           {
            "bin_start": 2,
            "bin_end": 2.2,
            "count": 1
           },
           {
            "bin_start": 2.2,
            "bin_end": 2.4000000000000004,
            "count": 0
           },
           {
            "bin_start": 2.4000000000000004,
            "bin_end": 2.6,
            "count": 0
           },
           {
            "bin_start": 2.6,
            "bin_end": 2.8,
            "count": 0
           },
           {
            "bin_start": 2.8,
            "bin_end": 3,
            "count": 1
           }
          ]
         }
        },
        {
         "name": "_deepnote_index_column",
         "dtype": "int64"
        }
       ],
       "rows_top": [
        {
         "Bob": "I liked it.",
         "Sue": "Pretty good.",
         "Bot": 1,
         "critic": "Ok",
         "index_backwards": 3,
         "_deepnote_index_column": 0
        },
        {
         "Bob": "It was awful.",
         "Sue": "Bland.",
         "Bot": 0,
         "critic": "Ok",
         "index_backwards": 2,
         "_deepnote_index_column": 1
        },
        {
         "Bob": "Meh",
         "Sue": "Overated",
         "Bot": 0.5,
         "critic": "Ok",
         "index_backwards": 1,
         "_deepnote_index_column": 2
        }
       ],
       "rows_bottom": null
      },
      "text/plain": "             Bob           Sue  Bot critic  index_backwards\n0    I liked it.  Pretty good.  1.0     Ok                3\n1  It was awful.        Bland.  0.0     Ok                2\n2            Meh      Overated  0.5     Ok                1",
      "text/html": "<div>\n<style scoped>\n    .dataframe tbody tr th:only-of-type {\n        vertical-align: middle;\n    }\n\n    .dataframe tbody tr th {\n        vertical-align: top;\n    }\n\n    .dataframe thead th {\n        text-align: right;\n    }\n</style>\n<table border=\"1\" class=\"dataframe\">\n  <thead>\n    <tr style=\"text-align: right;\">\n      <th></th>\n      <th>Bob</th>\n      <th>Sue</th>\n      <th>Bot</th>\n      <th>critic</th>\n      <th>index_backwards</th>\n    </tr>\n  </thead>\n  <tbody>\n    <tr>\n      <th>0</th>\n      <td>I liked it.</td>\n      <td>Pretty good.</td>\n      <td>1.0</td>\n      <td>Ok</td>\n      <td>3</td>\n    </tr>\n    <tr>\n      <th>1</th>\n      <td>It was awful.</td>\n      <td>Bland.</td>\n      <td>0.0</td>\n      <td>Ok</td>\n      <td>2</td>\n    </tr>\n    <tr>\n      <th>2</th>\n      <td>Meh</td>\n      <td>Overated</td>\n      <td>0.5</td>\n      <td>Ok</td>\n      <td>1</td>\n    </tr>\n  </tbody>\n</table>\n</div>"
     },
     "metadata": {}
    }
   ]
  },
  {
   "cell_type": "markdown",
   "source": "Or with an iterable of values:",
   "metadata": {
    "tags": [],
    "cell_id": "00239-6f0afdb1-8b82-4ac8-a337-4d92e7265d98",
    "deepnote_cell_type": "markdown"
   }
  },
  {
   "cell_type": "code",
   "metadata": {
    "tags": [],
    "cell_id": "00240-7433e7ea-5c53-46fd-a9da-3073cbce05a1",
    "deepnote_to_be_reexecuted": false,
    "source_hash": "e21ce450",
    "execution_start": 1629475318432,
    "execution_millis": 13,
    "deepnote_cell_type": "code"
   },
   "source": "df_bobAndSueAndBot['index_backwards'] = range(len(df_bobAndSueAndBot), 0, -1)\ndf_bobAndSueAndBot",
   "execution_count": null,
   "outputs": [
    {
     "output_type": "execute_result",
     "execution_count": 117,
     "data": {
      "application/vnd.deepnote.dataframe.v2+json": {
       "row_count": 3,
       "column_count": 5,
       "columns": [
        {
         "name": "Bob",
         "dtype": "object",
         "stats": {
          "unique_count": 3,
          "nan_count": 0,
          "categories": [
           {
            "name": "I liked it.",
            "count": 1
           },
           {
            "name": "It was awful.",
            "count": 1
           },
           {
            "name": "Meh",
            "count": 1
           }
          ]
         }
        },
        {
         "name": "Sue",
         "dtype": "object",
         "stats": {
          "unique_count": 3,
          "nan_count": 0,
          "categories": [
           {
            "name": "Pretty good.",
            "count": 1
           },
           {
            "name": "Bland.",
            "count": 1
           },
           {
            "name": "Overated",
            "count": 1
           }
          ]
         }
        },
        {
         "name": "Bot",
         "dtype": "float64",
         "stats": {
          "unique_count": 3,
          "nan_count": 0,
          "min": "0.0",
          "max": "1.0",
          "histogram": [
           {
            "bin_start": 0,
            "bin_end": 0.1,
            "count": 1
           },
           {
            "bin_start": 0.1,
            "bin_end": 0.2,
            "count": 0
           },
           {
            "bin_start": 0.2,
            "bin_end": 0.30000000000000004,
            "count": 0
           },
           {
            "bin_start": 0.30000000000000004,
            "bin_end": 0.4,
            "count": 0
           },
           {
            "bin_start": 0.4,
            "bin_end": 0.5,
            "count": 0
           },
           {
            "bin_start": 0.5,
            "bin_end": 0.6000000000000001,
            "count": 1
           },
           {
            "bin_start": 0.6000000000000001,
            "bin_end": 0.7000000000000001,
            "count": 0
           },
           {
            "bin_start": 0.7000000000000001,
            "bin_end": 0.8,
            "count": 0
           },
           {
            "bin_start": 0.8,
            "bin_end": 0.9,
            "count": 0
           },
           {
            "bin_start": 0.9,
            "bin_end": 1,
            "count": 1
           }
          ]
         }
        },
        {
         "name": "critic",
         "dtype": "object",
         "stats": {
          "unique_count": 1,
          "nan_count": 0,
          "categories": [
           {
            "name": "Ok",
            "count": 3
           }
          ]
         }
        },
        {
         "name": "index_backwards",
         "dtype": "int64",
         "stats": {
          "unique_count": 3,
          "nan_count": 0,
          "min": "1",
          "max": "3",
          "histogram": [
           {
            "bin_start": 1,
            "bin_end": 1.2,
            "count": 1
           },
           {
            "bin_start": 1.2,
            "bin_end": 1.4,
            "count": 0
           },
           {
            "bin_start": 1.4,
            "bin_end": 1.6,
            "count": 0
           },
           {
            "bin_start": 1.6,
            "bin_end": 1.8,
            "count": 0
           },
           {
            "bin_start": 1.8,
            "bin_end": 2,
            "count": 0
           },
           {
            "bin_start": 2,
            "bin_end": 2.2,
            "count": 1
           },
           {
            "bin_start": 2.2,
            "bin_end": 2.4000000000000004,
            "count": 0
           },
           {
            "bin_start": 2.4000000000000004,
            "bin_end": 2.6,
            "count": 0
           },
           {
            "bin_start": 2.6,
            "bin_end": 2.8,
            "count": 0
           },
           {
            "bin_start": 2.8,
            "bin_end": 3,
            "count": 1
           }
          ]
         }
        },
        {
         "name": "_deepnote_index_column",
         "dtype": "int64"
        }
       ],
       "rows_top": [
        {
         "Bob": "I liked it.",
         "Sue": "Pretty good.",
         "Bot": 1,
         "critic": "Ok",
         "index_backwards": 3,
         "_deepnote_index_column": 0
        },
        {
         "Bob": "It was awful.",
         "Sue": "Bland.",
         "Bot": 0,
         "critic": "Ok",
         "index_backwards": 2,
         "_deepnote_index_column": 1
        },
        {
         "Bob": "Meh",
         "Sue": "Overated",
         "Bot": 0.5,
         "critic": "Ok",
         "index_backwards": 1,
         "_deepnote_index_column": 2
        }
       ],
       "rows_bottom": null
      },
      "text/plain": "             Bob           Sue  Bot critic  index_backwards\n0    I liked it.  Pretty good.  1.0     Ok                3\n1  It was awful.        Bland.  0.0     Ok                2\n2            Meh      Overated  0.5     Ok                1",
      "text/html": "<div>\n<style scoped>\n    .dataframe tbody tr th:only-of-type {\n        vertical-align: middle;\n    }\n\n    .dataframe tbody tr th {\n        vertical-align: top;\n    }\n\n    .dataframe thead th {\n        text-align: right;\n    }\n</style>\n<table border=\"1\" class=\"dataframe\">\n  <thead>\n    <tr style=\"text-align: right;\">\n      <th></th>\n      <th>Bob</th>\n      <th>Sue</th>\n      <th>Bot</th>\n      <th>critic</th>\n      <th>index_backwards</th>\n    </tr>\n  </thead>\n  <tbody>\n    <tr>\n      <th>0</th>\n      <td>I liked it.</td>\n      <td>Pretty good.</td>\n      <td>1.0</td>\n      <td>Ok</td>\n      <td>3</td>\n    </tr>\n    <tr>\n      <th>1</th>\n      <td>It was awful.</td>\n      <td>Bland.</td>\n      <td>0.0</td>\n      <td>Ok</td>\n      <td>2</td>\n    </tr>\n    <tr>\n      <th>2</th>\n      <td>Meh</td>\n      <td>Overated</td>\n      <td>0.5</td>\n      <td>Ok</td>\n      <td>1</td>\n    </tr>\n  </tbody>\n</table>\n</div>"
     },
     "metadata": {}
    }
   ]
  },
  {
   "cell_type": "markdown",
   "source": "<a style='text-decoration:none;line-height:16px;display:flex;color:#5B5B62;padding:10px;justify-content:end;' href='https://deepnote.com?utm_source=created-in-deepnote-cell&projectId=1b78842c-71a5-4e9a-96da-32020e6267af' target=\"_blank\">\n<img alt='Created in deepnote.com' style='display:inline;max-height:16px;margin:0px;margin-right:7.5px;' src='data:image/svg+xml;base64,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' > </img>\nCreated in <span style='font-weight:600;margin-left:4px;'>Deepnote</span></a>",
   "metadata": {
    "tags": [],
    "created_in_deepnote_cell": true,
    "deepnote_cell_type": "markdown"
   }
  }
 ],
 "nbformat": 4,
 "nbformat_minor": 0,
 "metadata": {
  "colab": {
   "name": "EM Lyon : Course 1 - Introduction à Python.ipynb",
   "provenance": [],
   "collapsed_sections": []
  },
  "kernelspec": {
   "name": "python3",
   "display_name": "Python 3"
  },
  "language_info": {
   "name": "python"
  },
  "deepnote_notebook_id": "4d59005f-12de-4fb0-8aa7-2ffb8c254bd9",
  "deepnote": {},
  "deepnote_execution_queue": []
 }
}
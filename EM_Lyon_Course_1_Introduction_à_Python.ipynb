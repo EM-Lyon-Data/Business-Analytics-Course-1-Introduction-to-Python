{
 "cells": [
  {
   "cell_type": "markdown",
   "source": "# Course 1: Introduction Python\n\n<center><img src=\"https://www.python.org/static/community_logos/python-logo-master-v3-TM.png\" title=\"Python Logo\"/></center>\n\n",
   "metadata": {
    "id": "shVO-4_l20y5",
    "cell_id": "00000-60c69b14-4584-4a14-aef6-7e862e0986e6",
    "deepnote_cell_type": "markdown"
   }
  },
  {
   "cell_type": "markdown",
   "source": "This course covers the key Python skills you’ll need so you can start using Python for data science.",
   "metadata": {
    "id": "xTecwN9b2yAx",
    "cell_id": "00001-5f3b9dd5-3223-4f3f-b837-b607d0ef75b0",
    "deepnote_cell_type": "markdown"
   }
  },
  {
   "cell_type": "markdown",
   "source": "# 1.&nbsp;Welcome to Python",
   "metadata": {
    "tags": [],
    "is_collapsed": false,
    "cell_id": "00003-087e67e1-ff81-4171-bf65-93588fbb891e",
    "deepnote_cell_type": "text-cell-h1"
   }
  },
  {
   "cell_type": "markdown",
   "source": "## 1.1 Let's understand a first Python Program",
   "metadata": {
    "tags": [],
    "is_collapsed": false,
    "cell_id": "00003-baabb31f-dd7c-4ce3-9bf6-a24a97dc7d41",
    "deepnote_cell_type": "text-cell-h2"
   }
  },
  {
   "cell_type": "markdown",
   "source": "<div class=\"alert alert-block alert-info\">\nExercice 1: Try to understand the following program",
   "metadata": {
    "tags": [],
    "cell_id": "00003-9d7046e2-86a5-4ab7-99f5-3b4e45244699",
    "deepnote_cell_type": "markdown"
   }
  },
  {
   "cell_type": "code",
   "metadata": {
    "colab": {
     "base_uri": "https://localhost:8080/"
    },
    "id": "VjrYVYCe2mUR",
    "outputId": "6cac7384-e3de-4621-e869-740984ce711a",
    "cell_id": "00003-1181de2e-56cf-4d7b-9617-deb8cfb9d9c1",
    "deepnote_to_be_reexecuted": false,
    "source_hash": "218614ab",
    "execution_start": 1630392921889,
    "execution_millis": 19,
    "output_cleared": true,
    "deepnote_cell_type": "code"
   },
   "source": "int_numberOfStudents = 0\nprint(int_numberOfStudents)\n\n# Counting the number of students\nint_numberOfStudents = int_numberOfStudents + 32\n\nif int_numberOfStudents > 0:\n    print(\"The class has started!\")\ntext = \"And the class will end one day!\"\nprint(text)",
   "execution_count": null,
   "outputs": []
  },
  {
   "cell_type": "markdown",
   "source": "```\nint_numberOfStudents = 0\n```\n\n**Variable assignment:** Here `int_numberOfStudents` is called a **variable** and we **assign** it the value of 0 using `=`, which is called the assignment operator.\n​\n> **Aside**: If you've programmed in certain other languages (like Java or C++), you might be noticing some things Python *doesn't* require us to do here:  \n- we don't need to \"declare\" `int_numberOfStudents` before assigning to it\n- we don't need to tell Python what type of value `int_numberOfStudents` is going to refer to. In fact, we can even go on to reassign `int_numberOfStudents` to refer to a different sort of thing like a string or a boolean.\n\n```\nprint(int_numberOfStudents)\n```\n**Function calls:** `print` is a Python **function** that displays the value passed to it on the screen. We call functions by putting parentheses after their name, and putting the **inputs (or *arguments*)** to the function in those parentheses.\n\n```\n# Counting the number of students\n```\n\n**Comments:** The first line above is a comment. In Python, comments begin with the `#` symbol. Comments are ignored by the program, you can write whatever you want. We use comments to explain to others (and to ourselves) what we did when a part of the code is complex. \n\nIt is very important to use comments and it is considered a basic of the **best practices** for **code readability**.\n\n```\n'''\nThese are multiline comments\nDo not hesitate to use them\n'''\n```\nYes, you can also use multi-line comments like above\n```\nint_numberOfStudents = int_numberOfStudents + 4\n```\n\n**Reassignment:** Here we give the **variable** `int_numberOfStudents` a new value, we say that we are **reassigning** its value. Reassigning the value of an existing variable looks just the same as creating a variable - it still uses the `=` assignment operator.\n\nIn this case, the value we're assigning to `int_numberOfStudents` involves some simple arithmetic on its previous value. When it encounters this line, Python evaluates the expression on the right-hand-side of the `=` (0 + 4 = 4), and then assigns that value to the variable on the left-hand-side.\n\n<center><img src=\"https://i.redd.it/zzxftm1ebwg71.jpg\" width=\"400\" height=\"400\"></center>\n\n\n```\nif int_numberOfStudents > 0:\n    print(\"The class has started!\")\ntext = \"And the class will end one day!\"\nprint(text)\n```\n\n**Conditionals:** The keyword `ìf` is a **conditional**. We won't talk much about **conditionals** until later, but, even if you've never coded before, you can probably guess what this does. Python is prized for its readability and the simplicity.\n\nNote how we indicated which code belongs to the if. \"This code is in the if!\" is only supposed to be printed if `int_numberOfStudents` is positive. But the later code (like `print(\"The class has started!\")`)) should be executed no matter what. How do we (and Python) know that?\n\nThe colon (:) at the end of the if line indicates that a new code block is starting. Subsequent lines which are **indented** are part of that code block.\n\n> **Aside**: If you've coded before, you might know that some other languages use {curly braces} to mark the beginning and end of code blocks. Python's use of meaningful whitespace can be surprising to programmers who are accustomed to other languages, but in practice it can lead to more consistent and readable code than languages that do not enforce indentation of code blocks.\n\nLike comments, **indentation** is a **best practice** for **code readability** and in Python, it has become mandatory.",
   "metadata": {
    "id": "7UIKlhXwn6Eb",
    "cell_id": "00004-5b7dba7a-4bab-4a54-ab4f-d0cdf9eaa956",
    "deepnote_cell_type": "markdown"
   }
  },
  {
   "cell_type": "markdown",
   "source": "## 1.2 Your turn: Make your first Python Program",
   "metadata": {
    "tags": [],
    "is_collapsed": false,
    "cell_id": "00008-0303e76e-1921-4a75-9718-46190bdf05e8",
    "deepnote_cell_type": "text-cell-h2"
   }
  },
  {
   "cell_type": "markdown",
   "source": "<div class=\"alert alert-block alert-info\">\nExercise 1: Print \"Hello, World!\" in the console",
   "metadata": {
    "id": "xYVRG7PTu6jI",
    "cell_id": "00007-b4af7028-aab2-41a9-bfda-e1fe43461edb",
    "deepnote_cell_type": "markdown"
   }
  },
  {
   "cell_type": "markdown",
   "source": "A  **\"Hello, World!\"** program generally is a computer program that outputs or displays the message \"Hello, World!\". Such a program is very simple in most programming languages, and is often used to illustrate the basic syntax of a programming language. It is often the first program written by people learning to code. It can also be used as a sanity test to make sure that computer software intended to compile or run source code is correctly installed, and that the operator understands how to use it. ",
   "metadata": {
    "id": "dL8Nw538upZ6",
    "cell_id": "00006-5afe4f64-eea7-4583-af3b-4f5a456c3163",
    "deepnote_cell_type": "markdown"
   }
  },
  {
   "cell_type": "code",
   "metadata": {
    "id": "bewcKLiCvDjr",
    "cell_id": "00008-813a04a9-ff4c-4d63-837c-77e3a5ab5862",
    "output_cleared": true,
    "deepnote_cell_type": "code"
   },
   "source": "# Write your code here\n\n",
   "execution_count": null,
   "outputs": []
  },
  {
   "cell_type": "markdown",
   "source": "<div class=\"alert alert-block alert-info\">\nExercise 2: Print \"Hello, World! + [MY_NAME]\" in the console where [MY_NAME] is your name stored in a variable",
   "metadata": {
    "tags": [],
    "cell_id": "00012-6e1115c2-0a22-443b-8de2-90c5eaae7262",
    "deepnote_cell_type": "markdown"
   }
  },
  {
   "cell_type": "code",
   "metadata": {
    "id": "bewcKLiCvDjr",
    "cell_id": "00012-0a66af9b-dccd-41c4-9373-1e032a33d7a5",
    "allow_embed": false,
    "output_cleared": true,
    "deepnote_cell_type": "code"
   },
   "source": "# Write your code here\n\n",
   "execution_count": null,
   "outputs": []
  },
  {
   "cell_type": "markdown",
   "source": "<a style='text-decoration:none;line-height:16px;display:flex;color:#5B5B62;padding:10px;justify-content:end;' href='https://deepnote.com?utm_source=created-in-deepnote-cell&projectId=1b78842c-71a5-4e9a-96da-32020e6267af' target=\"_blank\">\n<img alt='Created in deepnote.com' style='display:inline;max-height:16px;margin:0px;margin-right:7.5px;' src='data:image/svg+xml;base64,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' > </img>\nCreated in <span style='font-weight:600;margin-left:4px;'>Deepnote</span></a>",
   "metadata": {
    "tags": [],
    "created_in_deepnote_cell": true,
    "deepnote_cell_type": "markdown"
   }
  }
 ],
 "nbformat": 4,
 "nbformat_minor": 0,
 "metadata": {
  "colab": {
   "name": "EM Lyon : Course 1 - Introduction à Python.ipynb",
   "provenance": [],
   "collapsed_sections": []
  },
  "kernelspec": {
   "name": "python3",
   "display_name": "Python 3"
  },
  "language_info": {
   "name": "python"
  },
  "deepnote_notebook_id": "4d59005f-12de-4fb0-8aa7-2ffb8c254bd9",
  "deepnote": {},
  "deepnote_execution_queue": []
 }
}